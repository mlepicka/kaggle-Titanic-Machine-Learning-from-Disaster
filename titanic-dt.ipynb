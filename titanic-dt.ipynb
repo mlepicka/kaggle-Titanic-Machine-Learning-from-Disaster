{
 "cells": [
  {
   "cell_type": "code",
   "execution_count": 1,
   "metadata": {},
   "outputs": [],
   "source": [
    "import pandas as pd\n",
    "import numpy as np\n",
    "import matplotlib.pyplot as plt\n",
    "import re\n",
    "\n",
    "from sklearn.tree import DecisionTreeClassifier, export_graphviz\n",
    "from sklearn.model_selection import train_test_split, KFold, StratifiedKFold\n",
    "from sklearn.metrics import accuracy_score, roc_curve, auc\n",
    "from sklearn import tree\n",
    "from sklearn.preprocessing import Imputer, StandardScaler"
   ]
  },
  {
   "cell_type": "code",
   "execution_count": 2,
   "metadata": {
    "scrolled": true
   },
   "outputs": [],
   "source": [
    "df1 = pd.DataFrame(pd.read_csv('train.csv'))\n",
    "df2 = pd.DataFrame(pd.read_csv('test.csv'))\n",
    "\n",
    "# Define function to extract titles from passenger names\n",
    "def get_title(name):\n",
    "    title_search = re.search(' ([A-Za-z]+)\\.', name)\n",
    "    # If the title exists, extract and return it.\n",
    "    if title_search:\n",
    "        return title_search.group(1)\n",
    "    return \"\"\n",
    "\n",
    "df1['Sex'] = df1['Sex'].map({'female': 1, 'male': 0})\n",
    "df1['Embarked'] = df1['Embarked'].map({'Q': 1, 'C': 0, 'S': 2})\n",
    "imp = Imputer(missing_values = 'NaN', strategy = 'most_frequent', axis = 0)\n",
    "df1[\"Age\"] = imp.fit_transform(df1[[\"Age\"]]).ravel()\n",
    "df1['Embarked'] = imp.fit_transform(df1[['Embarked']]).ravel()\n",
    "df1.Embarked = df1.Embarked.astype(int)\n",
    "df1.Age = df1.Age.astype(int)\n",
    "df1['FamilySize'] = df1['SibSp'] + df1['Parch'] + 1\n",
    "df1 = df1.assign(FamilySize = pd.Series(df1['FamilySize']))\n",
    "df1['HasCabin'] = df1['Cabin'].apply(lambda x: 0 if type(x) == float else 1)\n",
    "df1['Name_length'] = df1['Name'].apply(len)\n",
    "\n",
    "#df1['IsAlone'] = 0\n",
    "#df1.loc[df1['FamilySize'] == 1, 'IsAlone'] = 1\n",
    "\n",
    "df1['Single'] = df1['FamilySize'].map(lambda s: 1 if s == 1 else 0)\n",
    "df1['SmallF'] = df1['FamilySize'].map(lambda s: 1 if  s == 2  else 0)\n",
    "df1['MedF'] = df1['FamilySize'].map(lambda s: 1 if 3 <= s <= 4 else 0)\n",
    "df1['LargeF'] = df1['FamilySize'].map(lambda s: 1 if s >= 5 else 0)\n",
    "\n",
    "df1['Title'] = df1['Name'].apply(get_title)\n",
    "df1['Title'] = df1['Title'].replace(['Lady', 'Countess','Capt', 'Col','Don', 'Dr', 'Major', 'Rev', 'Sir', 'Jonkheer', 'Dona'], 'Rare')\n",
    "df1['Title'] = df1['Title'].replace('Mlle', 'Miss')\n",
    "df1['Title'] = df1['Title'].replace('Ms', 'Miss')\n",
    "df1['Title'] = df1['Title'].replace('Mme', 'Mrs')\n",
    "title_mapping = {\"Mr\": 1, \"Miss\": 2, \"Mrs\": 3, \"Master\": 4, \"Rare\": 5}\n",
    "df1['Title'] = df1['Title'].map(title_mapping)\n",
    "df1['Title'] = df1['Title'].fillna(0)\n",
    "\n",
    "#df1[\"Cabin\"] = pd.Series([i[0] if not pd.isnull(i) else 'X' for i in df1['Cabin'] ]) #zmapowac na inty\n",
    "#df1['Cabin'] = df1['Cabin'].map({'A': 1, 'B': 1, 'C': 1, 'D': 1, 'E': 1, 'F': 1, 'G': 1, 'T': 1})\n",
    "df1 = df1.drop(columns = ['PassengerId', 'Cabin','Name', 'Ticket', 'Fare', 'Name_length'])\n",
    "    \n",
    "#============================================================================\n",
    "    \n",
    "df2['Sex'] = df2['Sex'].map({'female': 1, 'male': 0})\n",
    "df2['Embarked'] = df2['Embarked'].map({'Q': 1, 'C': 0, 'S': 2})\n",
    "imp = Imputer(missing_values = 'NaN', strategy = 'most_frequent', axis = 0)\n",
    "df2[\"Age\"] = imp.fit_transform(df2[[\"Age\"]]).ravel()\n",
    "df2['Embarked'] = imp.fit_transform(df2[['Embarked']]).ravel()\n",
    "df2.Embarked = df2.Embarked.astype(int)\n",
    "df2.Age = df2.Age.astype(int)\n",
    "df2['FamilySize'] = df2['SibSp'] + df2['Parch'] + 1\n",
    "df2 = df2.assign(FamilySize = pd.Series(df2['FamilySize']))    \n",
    "df2['HasCabin'] = df2['Cabin'].apply(lambda x: 0 if type(x) == float else 1)\n",
    "df2['Name_length'] = df2['Name'].apply(len)\n",
    "\n",
    "#df1['IsAlone'] = 0\n",
    "#df1.loc[df1['FamilySize'] == 1, 'IsAlone'] = 1\n",
    "\n",
    "df2['Single'] = df2['FamilySize'].map(lambda s: 1 if s == 1 else 0)\n",
    "df2['SmallF'] = df2['FamilySize'].map(lambda s: 1 if  s == 2  else 0)\n",
    "df2['MedF'] = df2['FamilySize'].map(lambda s: 1 if 3 <= s <= 4 else 0)\n",
    "df2['LargeF'] = df2['FamilySize'].map(lambda s: 1 if s >= 5 else 0)\n",
    "\n",
    "df2['Title'] = df2['Name'].apply(get_title)\n",
    "df2['Title'] = df2['Title'].replace(['Lady', 'Countess','Capt', 'Col','Don', 'Dr', 'Major', 'Rev', 'Sir', 'Jonkheer', 'Dona'], 'Rare')\n",
    "df2['Title'] = df2['Title'].replace('Mlle', 'Miss')\n",
    "df2['Title'] = df2['Title'].replace('Ms', 'Miss')\n",
    "df2['Title'] = df2['Title'].replace('Mme', 'Mrs')\n",
    "title_mapping = {\"Mr\": 1, \"Miss\": 2, \"Mrs\": 3, \"Master\": 4, \"Rare\": 5}\n",
    "df2['Title'] = df2['Title'].map(title_mapping)\n",
    "df2['Title'] = df2['Title'].fillna(0)\n",
    "\n",
    "#df2[\"Cabin\"] = pd.Series([i[0] if not pd.isnull(i) else 'X' for i in df2['Cabin'] ]) #zmapowac na inty\n",
    "#df2['Cabin'] = df2['Cabin'].map({'A': 1, 'B': 1, 'C': 1, 'D': 1, 'E': 1, 'F': 1, 'G': 1, 'T': 1})\n",
    "df2 = df2.drop(columns = ['Name', 'Cabin', 'Ticket', 'Fare', 'Name_length'])\n",
    "\n",
    "#print(df1)\n",
    "#print(df2)"
   ]
  },
  {
   "cell_type": "code",
   "execution_count": 3,
   "metadata": {},
   "outputs": [
    {
     "data": {
      "text/plain": [
       "0.7927927927927928"
      ]
     },
     "execution_count": 3,
     "metadata": {},
     "output_type": "execute_result"
    }
   ],
   "source": [
    "X = df1.drop('Survived', axis = 1)\n",
    "y = df1['Survived']\n",
    "\n",
    "skf = StratifiedKFold(n_splits = 4) #pobawic sie z iloscia splitow\n",
    "skf.get_n_splits(X, y)\n",
    "\n",
    "for train_index, test_index in skf.split(X, y):\n",
    "    X_train, X_test = X.iloc[train_index], X.iloc[test_index]\n",
    "    y_train, y_test = y.iloc[train_index], y.iloc[test_index]\n",
    "    \n",
    "model = tree.DecisionTreeClassifier(max_depth = 15, min_samples_split = 2, min_samples_leaf = 6, max_features = 6) #pozmieniac parametry dt\n",
    "model.fit(X_train, y_train)\n",
    "\n",
    "y_predict = model.predict(X_test)\n",
    "accuracy_score(y_test, y_predict)"
   ]
  },
  {
   "cell_type": "code",
   "execution_count": 4,
   "metadata": {},
   "outputs": [],
   "source": [
    "Xt = df2.drop(columns = ['PassengerId'])\n",
    "yt = df2['PassengerId']\n",
    "yt = yt.reset_index(drop=True)\n",
    "yt = pd.DataFrame(np.array(yt).reshape(len(yt)), columns = ['PassengerId'])\n",
    "#print(yt)\n",
    "#yt_predict = model.predict(Xt)\n",
    "df2t = pd.DataFrame(model.predict(Xt), columns = ['Survived'])\n",
    "#print(df2t)\n",
    "\n",
    "yt['Survived'] = df2t['Survived']\n",
    "yt.Survived = yt.Survived.astype(int)\n",
    "#print(yt)\n",
    "\n",
    "yt.to_csv('wynik-dt.csv', index = False)"
   ]
  },
  {
   "cell_type": "code",
   "execution_count": 5,
   "metadata": {},
   "outputs": [
    {
     "data": {
      "image/png": "[encoded data removed]",
      "text/plain": [
       "<Figure size 432x288 with 1 Axes>"
      ]
     },
     "metadata": {},
     "output_type": "display_data"
    }
   ],
   "source": [
    "actual = y_test #df1['Survived']\n",
    "predictions = y_predict #df2t\n",
    "\n",
    "#print(actual)\n",
    "#print(predictions)\n",
    "\n",
    "false_positive_rate, true_positive_rate, thresholds = roc_curve(actual, predictions)\n",
    "roc_auc = auc(false_positive_rate, true_positive_rate)\n",
    "\n",
    "plt.title('Receiver Operating Characteristic')\n",
    "plt.plot(false_positive_rate, true_positive_rate, 'b', label = 'AUC = %0.2f'% roc_auc)\n",
    "plt.legend(loc = 'lower right')\n",
    "plt.plot([0,1],[0,1],'r--')\n",
    "plt.xlim([-0.1,1.2])\n",
    "plt.ylim([-0.1,1.2])\n",
    "plt.ylabel('True Positive Rate')\n",
    "plt.xlabel('False Positive Rate')\n",
    "plt.show()"
   ]
  },
  {
   "cell_type": "code",
   "execution_count": 6,
   "metadata": {},
   "outputs": [
    {
     "data": {
      "text/plain": [
       "<matplotlib.collections.PathCollection at 0x7fc785697c18>"
      ]
     },
     "execution_count": 6,
     "metadata": {},
     "output_type": "execute_result"
    },
    {
     "data": {
      "image/png": "[encoded data removed]",
      "text/plain": [
       "<Figure size 432x288 with 1 Axes>"
      ]
     },
     "metadata": {},
     "output_type": "display_data"
    }
   ],
   "source": [
    "plt.scatter(y_predict, y_predict)"
   ]
  }
 ],
 "metadata": {
  "kernelspec": {
   "display_name": "Python 3",
   "language": "python",
   "name": "python3"
  },
  "language_info": {
   "codemirror_mode": {
    "name": "ipython",
    "version": 3
   },
   "file_extension": ".py",
   "mimetype": "text/x-python",
   "name": "python",
   "nbconvert_exporter": "python",
   "pygments_lexer": "ipython3",
   "version": "3.6.5"
  }
 },
 "nbformat": 4,
 "nbformat_minor": 2
}
