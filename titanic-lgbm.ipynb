{
 "cells": [
  {
   "cell_type": "code",
   "execution_count": 1,
   "metadata": {},
   "outputs": [
    {
     "name": "stderr",
     "output_type": "stream",
     "text": [
      "/home/fschmidt/anaconda3/lib/python3.6/site-packages/sklearn/cross_validation.py:41: DeprecationWarning: This module was deprecated in version 0.18 in favor of the model_selection module into which all the refactored classes and functions are moved. Also note that the interface of the new CV iterators are different from that of this module. This module will be removed in 0.20.\n",
      "  \"This module will be removed in 0.20.\", DeprecationWarning)\n",
      "/home/fschmidt/anaconda3/lib/python3.6/site-packages/sklearn/learning_curve.py:22: DeprecationWarning: This module was deprecated in version 0.18 in favor of the model_selection module into which all the functions are moved. This module will be removed in 0.20\n",
      "  DeprecationWarning)\n"
     ]
    }
   ],
   "source": [
    "import numpy as np\n",
    "import pandas as pd\n",
    "import matplotlib.pyplot as plt\n",
    "import lightgbm as lgb\n",
    "import re\n",
    "\n",
    "from sklearn.learning_curve import validation_curve\n",
    "from sklearn.model_selection  import train_test_split, KFold, StratifiedKFold\n",
    "from sklearn.preprocessing import Imputer, StandardScaler\n",
    "from sklearn.metrics import accuracy_score, roc_curve, auc"
   ]
  },
  {
   "cell_type": "code",
   "execution_count": 2,
   "metadata": {
    "scrolled": true
   },
   "outputs": [],
   "source": [
    "df1 = pd.DataFrame(pd.read_csv('train.csv'))\n",
    "df2 = pd.DataFrame(pd.read_csv('test.csv'))\n",
    "\n",
    "# Define function to extract titles from passenger names\n",
    "def get_title(name):\n",
    "    title_search = re.search(' ([A-Za-z]+)\\.', name)\n",
    "    # If the title exists, extract and return it.\n",
    "    if title_search:\n",
    "        return title_search.group(1)\n",
    "    return \"\"\n",
    "\n",
    "df1['Sex'] = df1['Sex'].map({'female': 1, 'male': 0})\n",
    "df1['Embarked'] = df1['Embarked'].map({'Q': 1, 'C': 0, 'S': 2})\n",
    "imp = Imputer(missing_values = 'NaN', strategy = 'most_frequent', axis = 0)\n",
    "df1[\"Age\"] = imp.fit_transform(df1[[\"Age\"]]).ravel()\n",
    "df1['Embarked'] = imp.fit_transform(df1[['Embarked']]).ravel()\n",
    "df1.Embarked = df1.Embarked.astype(int)\n",
    "df1.Age = df1.Age.astype(int)\n",
    "df1['FamilySize'] = df1['SibSp'] + df1['Parch'] + 1\n",
    "df1 = df1.assign(FamilySize = pd.Series(df1['FamilySize']))\n",
    "df1['HasCabin'] = df1['Cabin'].apply(lambda x: 0 if type(x) == float else 1)\n",
    "df1['Name_length'] = df1['Name'].apply(len)\n",
    "\n",
    "#df1['IsAlone'] = 0\n",
    "#df1.loc[df1['FamilySize'] == 1, 'IsAlone'] = 1\n",
    "\n",
    "df1['Single'] = df1['FamilySize'].map(lambda s: 1 if s == 1 else 0)\n",
    "df1['SmallF'] = df1['FamilySize'].map(lambda s: 1 if  s == 2  else 0)\n",
    "df1['MedF'] = df1['FamilySize'].map(lambda s: 1 if 3 <= s <= 4 else 0)\n",
    "df1['LargeF'] = df1['FamilySize'].map(lambda s: 1 if s >= 5 else 0)\n",
    "\n",
    "df1['Title'] = df1['Name'].apply(get_title)\n",
    "df1['Title'] = df1['Title'].replace(['Lady', 'Countess','Capt', 'Col','Don', 'Dr', 'Major', 'Rev', 'Sir', 'Jonkheer', 'Dona'], 'Rare')\n",
    "df1['Title'] = df1['Title'].replace('Mlle', 'Miss')\n",
    "df1['Title'] = df1['Title'].replace('Ms', 'Miss')\n",
    "df1['Title'] = df1['Title'].replace('Mme', 'Mrs')\n",
    "title_mapping = {\"Mr\": 1, \"Miss\": 2, \"Mrs\": 3, \"Master\": 4, \"Rare\": 5}\n",
    "df1['Title'] = df1['Title'].map(title_mapping)\n",
    "df1['Title'] = df1['Title'].fillna(0)\n",
    "\n",
    "#df1[\"Cabin\"] = pd.Series([i[0] if not pd.isnull(i) else 'X' for i in df1['Cabin'] ]) #zmapowac na inty\n",
    "#df1['Cabin'] = df1['Cabin'].map({'A': 1, 'B': 1, 'C': 1, 'D': 1, 'E': 1, 'F': 1, 'G': 1, 'T': 1})\n",
    "df1 = df1.drop(columns = ['PassengerId', 'Cabin','Name', 'Ticket', 'Fare', 'Name_length'])\n",
    "    \n",
    "#============================================================================\n",
    "    \n",
    "df2['Sex'] = df2['Sex'].map({'female': 1, 'male': 0})\n",
    "df2['Embarked'] = df2['Embarked'].map({'Q': 1, 'C': 0, 'S': 2})\n",
    "imp = Imputer(missing_values = 'NaN', strategy = 'most_frequent', axis = 0)\n",
    "df2[\"Age\"] = imp.fit_transform(df2[[\"Age\"]]).ravel()\n",
    "df2['Embarked'] = imp.fit_transform(df2[['Embarked']]).ravel()\n",
    "df2.Embarked = df2.Embarked.astype(int)\n",
    "df2.Age = df2.Age.astype(int)\n",
    "df2['FamilySize'] = df2['SibSp'] + df2['Parch'] + 1\n",
    "df2 = df2.assign(FamilySize = pd.Series(df2['FamilySize']))    \n",
    "df2['HasCabin'] = df2['Cabin'].apply(lambda x: 0 if type(x) == float else 1)\n",
    "df2['Name_length'] = df2['Name'].apply(len)\n",
    "\n",
    "#df1['IsAlone'] = 0\n",
    "#df1.loc[df1['FamilySize'] == 1, 'IsAlone'] = 1\n",
    "\n",
    "df2['Single'] = df2['FamilySize'].map(lambda s: 1 if s == 1 else 0)\n",
    "df2['SmallF'] = df2['FamilySize'].map(lambda s: 1 if  s == 2  else 0)\n",
    "df2['MedF'] = df2['FamilySize'].map(lambda s: 1 if 3 <= s <= 4 else 0)\n",
    "df2['LargeF'] = df2['FamilySize'].map(lambda s: 1 if s >= 5 else 0)\n",
    "\n",
    "df2['Title'] = df2['Name'].apply(get_title)\n",
    "df2['Title'] = df2['Title'].replace(['Lady', 'Countess','Capt', 'Col','Don', 'Dr', 'Major', 'Rev', 'Sir', 'Jonkheer', 'Dona'], 'Rare')\n",
    "df2['Title'] = df2['Title'].replace('Mlle', 'Miss')\n",
    "df2['Title'] = df2['Title'].replace('Ms', 'Miss')\n",
    "df2['Title'] = df2['Title'].replace('Mme', 'Mrs')\n",
    "title_mapping = {\"Mr\": 1, \"Miss\": 2, \"Mrs\": 3, \"Master\": 4, \"Rare\": 5}\n",
    "df2['Title'] = df2['Title'].map(title_mapping)\n",
    "df2['Title'] = df2['Title'].fillna(0)\n",
    "\n",
    "#df2[\"Cabin\"] = pd.Series([i[0] if not pd.isnull(i) else 'X' for i in df2['Cabin'] ]) #zmapowac na inty\n",
    "#df2['Cabin'] = df2['Cabin'].map({'A': 1, 'B': 1, 'C': 1, 'D': 1, 'E': 1, 'F': 1, 'G': 1, 'T': 1})\n",
    "df2 = df2.drop(columns = ['Name', 'Cabin', 'Ticket', 'Fare', 'Name_length'])\n",
    "\n",
    "#print(df1)\n",
    "#print(df2)"
   ]
  },
  {
   "cell_type": "code",
   "execution_count": 3,
   "metadata": {},
   "outputs": [],
   "source": [
    "X = df1.drop(columns = ['Survived'])\n",
    "y = df1['Survived']\n",
    "\n",
    "skf = StratifiedKFold(n_splits = 4) #pobawic sie z iloscia splitow\n",
    "skf.get_n_splits(X, y)\n",
    "\n",
    "for train_index, test_index in skf.split(X, y):\n",
    "    X_train, X_test = X.iloc[train_index], X.iloc[test_index]\n",
    "    y_train, y_test = y.iloc[train_index], y.iloc[test_index]\n",
    "\n",
    "sc = StandardScaler()\n",
    "X_train = sc.fit_transform(X_train)\n",
    "X_test = sc.transform(X_test)"
   ]
  },
  {
   "cell_type": "code",
   "execution_count": 4,
   "metadata": {},
   "outputs": [],
   "source": [
    "d_train = lgb.Dataset(X_train, label = y_train)\n",
    "\n",
    "params = {}\n",
    "params['learning_rate'] = 0.099\n",
    "params['boosting_type'] = 'gbdt'\n",
    "params['objective'] = 'binary'\n",
    "params['metric'] = 'auc' #'binary_logloss'\n",
    "params['sub_feature'] = 0.72\n",
    "params['num_leaves'] = 25 #2^(n-1)\n",
    "params['min_data'] = 50\n",
    "params['max_depth'] = 10 #n\n",
    "params['lambda_l1'] = 0.5\n",
    "params['feature_fraction'] = 0.3\n",
    "\n",
    "clf = lgb.train(params, d_train, 100)\n",
    "y_predict = clf.predict(X_test)\n",
    "\n",
    "# for i in range(222):\n",
    "#     if y_predict[i] >= 0.48:\n",
    "#         y_predict[i] = 1\n",
    "#     else:  \n",
    "#         y_predict[i] = 0\n",
    "        \n",
    "# accuracy = accuracy_score(y_test, y_predict) \n",
    "# print(accuracy)"
   ]
  },
  {
   "cell_type": "code",
   "execution_count": 5,
   "metadata": {
    "scrolled": true
   },
   "outputs": [],
   "source": [
    "#df2 = sc.transform(df2)\n",
    "#y2_pred = clf.predict(df2)\n",
    "#print(df2)\n",
    "\n",
    "Xt = df2.drop(columns = ['PassengerId'])\n",
    "yt = df2['PassengerId']\n",
    "\n",
    "yt = yt.reset_index(drop=True)\n",
    "yt = pd.DataFrame(np.array(yt).reshape(len(yt)), columns = ['PassengerId'])\n",
    "#print(yt)\n",
    "\n",
    "ytt = yt\n",
    "\n",
    "yt2_predict = clf.predict(sc.transform(Xt))\n",
    "\n",
    "lgbm_pdict = pd.DataFrame({'lgbm': yt2_predict})\n",
    "\n",
    "# print(yt2_predict)\n",
    "# print(min(yt2_predict))\n",
    "# print(max(yt2_predict))\n",
    "\n",
    "# for i in range(418):\n",
    "#     if yt2_predict[i] >= 0.48:\n",
    "#        yt2_predict[i] = 1\n",
    "#     else:  \n",
    "#        yt2_predict[i] = 0\n",
    "\n",
    "# print(yt2_predict)    \n",
    "  \n",
    "df2t = pd.DataFrame(yt2_predict, columns = ['Survived'])\n",
    "#print(df2t)\n",
    "\n",
    "yt['Survived'] = df2t['Survived']\n",
    "# yt.Survived = yt.Survived.astype(int)\n",
    "# print(yt)\n",
    "\n",
    "lgbm_pdict.to_csv('pdb-lgbm.csv', index = False)\n",
    "\n",
    "yt.to_csv('wynik-lgbm.csv', index = False)"
   ]
  },
  {
   "cell_type": "code",
   "execution_count": 6,
   "metadata": {
    "scrolled": true
   },
   "outputs": [
    {
     "data": {
      "text/plain": [
       "0.071757    26\n",
       "0.106820    12\n",
       "0.600680    10\n",
       "0.194998     7\n",
       "0.108922     7\n",
       "0.088300     6\n",
       "0.233648     5\n",
       "0.154476     4\n",
       "0.169171     4\n",
       "0.162405     3\n",
       "0.280623     3\n",
       "0.476872     3\n",
       "0.680968     3\n",
       "0.090017     3\n",
       "0.100303     3\n",
       "0.148086     3\n",
       "0.157700     3\n",
       "0.578382     3\n",
       "0.167305     3\n",
       "0.126062     3\n",
       "0.383853     3\n",
       "0.164844     2\n",
       "0.965862     2\n",
       "0.339424     2\n",
       "0.055291     2\n",
       "0.521151     2\n",
       "0.107603     2\n",
       "0.097210     2\n",
       "0.766392     2\n",
       "0.825738     2\n",
       "            ..\n",
       "0.598874     1\n",
       "0.950341     1\n",
       "0.179894     1\n",
       "0.794515     1\n",
       "0.721760     1\n",
       "0.148544     1\n",
       "0.156463     1\n",
       "0.498081     1\n",
       "0.543109     1\n",
       "0.490952     1\n",
       "0.073333     1\n",
       "0.677461     1\n",
       "0.717811     1\n",
       "0.109207     1\n",
       "0.064533     1\n",
       "0.245481     1\n",
       "0.066464     1\n",
       "0.160870     1\n",
       "0.262720     1\n",
       "0.758301     1\n",
       "0.939651     1\n",
       "0.810061     1\n",
       "0.797675     1\n",
       "0.442480     1\n",
       "0.746009     1\n",
       "0.936006     1\n",
       "0.627496     1\n",
       "0.099378     1\n",
       "0.600762     1\n",
       "0.583025     1\n",
       "Name: Survived, Length: 276, dtype: int64"
      ]
     },
     "execution_count": 6,
     "metadata": {},
     "output_type": "execute_result"
    }
   ],
   "source": [
    "yt.Survived.value_counts()"
   ]
  },
  {
   "cell_type": "code",
   "execution_count": 7,
   "metadata": {},
   "outputs": [
    {
     "data": {
      "text/plain": [
       "<matplotlib.collections.PathCollection at 0x7f77ca672be0>"
      ]
     },
     "execution_count": 7,
     "metadata": {},
     "output_type": "execute_result"
    },
    {
     "data": {
      "image/png": "[encoded data removed]",
      "text/plain": [
       "<Figure size 432x288 with 1 Axes>"
      ]
     },
     "metadata": {},
     "output_type": "display_data"
    }
   ],
   "source": [
    "pt = df2['PassengerId']\n",
    "\n",
    "#pt = pt.reset_index(drop=True)\n",
    "#pt = pd.DataFrame(np.array(pt).reshape(len(pt)), columns = ['PassengerId'])\n",
    "\n",
    "plt.scatter(yt2_predict,yt2_predict)\n"
   ]
  },
  {
   "cell_type": "code",
   "execution_count": 8,
   "metadata": {},
   "outputs": [
    {
     "data": {
      "image/png": "[encoded data removed]",
      "text/plain": [
       "<Figure size 432x288 with 1 Axes>"
      ]
     },
     "metadata": {},
     "output_type": "display_data"
    }
   ],
   "source": [
    "# Xplt = yt2_predict # false_positive_rate\n",
    "# yplt = Xt # true_positive_rate \n",
    "\n",
    "# # This is the ROC curve\n",
    "# plt.plot(Xplt,yplt)\n",
    "# plt.show() \n",
    "\n",
    "# # This is the AUC\n",
    "# auc = np.trapz(yplt,Xplt)\n",
    "\n",
    "actual = y_test #df1['Survived']\n",
    "predictions = y_predict #df2t\n",
    "\n",
    "#print(actual)\n",
    "#print(predictions)\n",
    "\n",
    "false_positive_rate, true_positive_rate, thresholds = roc_curve(actual, predictions)\n",
    "roc_auc = auc(false_positive_rate, true_positive_rate)\n",
    "\n",
    "plt.title('Receiver Operating Characteristic')\n",
    "plt.plot(false_positive_rate, true_positive_rate, 'b', label = 'AUC = %0.2f'% roc_auc)\n",
    "plt.legend(loc = 'lower right')\n",
    "plt.plot([0,1],[0,1],'r--')\n",
    "plt.xlim([-0.1,1.2])\n",
    "plt.ylim([-0.1,1.2])\n",
    "plt.ylabel('True Positive Rate')\n",
    "plt.xlabel('False Positive Rate')\n",
    "plt.show()"
   ]
  },
  {
   "cell_type": "code",
   "execution_count": null,
   "metadata": {},
   "outputs": [],
   "source": []
  },
  {
   "cell_type": "code",
   "execution_count": null,
   "metadata": {},
   "outputs": [],
   "source": []
  }
 ],
 "metadata": {
  "kernelspec": {
   "display_name": "Python 3",
   "language": "python",
   "name": "python3"
  },
  "language_info": {
   "codemirror_mode": {
    "name": "ipython",
    "version": 3
   },
   "file_extension": ".py",
   "mimetype": "text/x-python",
   "name": "python",
   "nbconvert_exporter": "python",
   "pygments_lexer": "ipython3",
   "version": "3.6.5"
  }
 },
 "nbformat": 4,
 "nbformat_minor": 2
}
