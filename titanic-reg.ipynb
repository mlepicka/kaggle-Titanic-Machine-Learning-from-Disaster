{
 "cells": [
  {
   "cell_type": "code",
   "execution_count": 1,
   "metadata": {},
   "outputs": [],
   "source": [
    "import pandas as pd\n",
    "import numpy as np\n",
    "import matplotlib.pyplot as plt\n",
    "import re\n",
    "\n",
    "from sklearn import linear_model\n",
    "from sklearn.model_selection import train_test_split, KFold, StratifiedKFold\n",
    "from sklearn.metrics import accuracy_score, roc_curve, auc\n",
    "from sklearn.preprocessing import Imputer, StandardScaler"
   ]
  },
  {
   "cell_type": "code",
   "execution_count": 2,
   "metadata": {},
   "outputs": [],
   "source": [
    "df1 = pd.DataFrame(pd.read_csv('train.csv'))\n",
    "df2 = pd.DataFrame(pd.read_csv('test.csv'))\n",
    "\n",
    "# Define function to extract titles from passenger names\n",
    "def get_title(name):\n",
    "    title_search = re.search(' ([A-Za-z]+)\\.', name)\n",
    "    # If the title exists, extract and return it.\n",
    "    if title_search:\n",
    "        return title_search.group(1)\n",
    "    return \"\"\n",
    "\n",
    "df1['Sex'] = df1['Sex'].map({'female': 1, 'male': 0})\n",
    "df1['Embarked'] = df1['Embarked'].map({'Q': 1, 'C': 0, 'S': 2})\n",
    "imp = Imputer(missing_values = 'NaN', strategy = 'most_frequent', axis = 0)\n",
    "df1[\"Age\"] = imp.fit_transform(df1[[\"Age\"]]).ravel()\n",
    "df1['Embarked'] = imp.fit_transform(df1[['Embarked']]).ravel()\n",
    "df1.Embarked = df1.Embarked.astype(int)\n",
    "df1.Age = df1.Age.astype(int)\n",
    "df1['FamilySize'] = df1['SibSp'] + df1['Parch'] + 1\n",
    "df1 = df1.assign(FamilySize = pd.Series(df1['FamilySize']))\n",
    "df1['HasCabin'] = df1['Cabin'].apply(lambda x: 0 if type(x) == float else 1)\n",
    "df1['Name_length'] = df1['Name'].apply(len)\n",
    "\n",
    "#df1['IsAlone'] = 0\n",
    "#df1.loc[df1['FamilySize'] == 1, 'IsAlone'] = 1\n",
    "\n",
    "df1['Single'] = df1['FamilySize'].map(lambda s: 1 if s == 1 else 0)\n",
    "df1['SmallF'] = df1['FamilySize'].map(lambda s: 1 if  s == 2  else 0)\n",
    "df1['MedF'] = df1['FamilySize'].map(lambda s: 1 if 3 <= s <= 4 else 0)\n",
    "df1['LargeF'] = df1['FamilySize'].map(lambda s: 1 if s >= 5 else 0)\n",
    "\n",
    "df1['Title'] = df1['Name'].apply(get_title)\n",
    "df1['Title'] = df1['Title'].replace(['Lady', 'Countess','Capt', 'Col','Don', 'Dr', 'Major', 'Rev', 'Sir', 'Jonkheer', 'Dona'], 'Rare')\n",
    "df1['Title'] = df1['Title'].replace('Mlle', 'Miss')\n",
    "df1['Title'] = df1['Title'].replace('Ms', 'Miss')\n",
    "df1['Title'] = df1['Title'].replace('Mme', 'Mrs')\n",
    "title_mapping = {\"Mr\": 1, \"Miss\": 2, \"Mrs\": 3, \"Master\": 4, \"Rare\": 5}\n",
    "df1['Title'] = df1['Title'].map(title_mapping)\n",
    "df1['Title'] = df1['Title'].fillna(0)\n",
    "\n",
    "#df1[\"Cabin\"] = pd.Series([i[0] if not pd.isnull(i) else 'X' for i in df1['Cabin'] ]) #zmapowac na inty\n",
    "#df1['Cabin'] = df1['Cabin'].map({'A': 1, 'B': 1, 'C': 1, 'D': 1, 'E': 1, 'F': 1, 'G': 1, 'T': 1})\n",
    "df1 = df1.drop(columns = ['PassengerId', 'Cabin','Name', 'Ticket', 'Fare', 'Name_length'])\n",
    "    \n",
    "#============================================================================\n",
    "    \n",
    "df2['Sex'] = df2['Sex'].map({'female': 1, 'male': 0})\n",
    "df2['Embarked'] = df2['Embarked'].map({'Q': 1, 'C': 0, 'S': 2})\n",
    "imp = Imputer(missing_values = 'NaN', strategy = 'most_frequent', axis = 0)\n",
    "df2[\"Age\"] = imp.fit_transform(df2[[\"Age\"]]).ravel()\n",
    "df2['Embarked'] = imp.fit_transform(df2[['Embarked']]).ravel()\n",
    "df2.Embarked = df2.Embarked.astype(int)\n",
    "df2.Age = df2.Age.astype(int)\n",
    "df2['FamilySize'] = df2['SibSp'] + df2['Parch'] + 1\n",
    "df2 = df2.assign(FamilySize = pd.Series(df2['FamilySize']))    \n",
    "df2['HasCabin'] = df2['Cabin'].apply(lambda x: 0 if type(x) == float else 1)\n",
    "df2['Name_length'] = df2['Name'].apply(len)\n",
    "\n",
    "#df1['IsAlone'] = 0\n",
    "#df1.loc[df1['FamilySize'] == 1, 'IsAlone'] = 1\n",
    "\n",
    "df2['Single'] = df2['FamilySize'].map(lambda s: 1 if s == 1 else 0)\n",
    "df2['SmallF'] = df2['FamilySize'].map(lambda s: 1 if  s == 2  else 0)\n",
    "df2['MedF'] = df2['FamilySize'].map(lambda s: 1 if 3 <= s <= 4 else 0)\n",
    "df2['LargeF'] = df2['FamilySize'].map(lambda s: 1 if s >= 5 else 0)\n",
    "\n",
    "df2['Title'] = df2['Name'].apply(get_title)\n",
    "df2['Title'] = df2['Title'].replace(['Lady', 'Countess','Capt', 'Col','Don', 'Dr', 'Major', 'Rev', 'Sir', 'Jonkheer', 'Dona'], 'Rare')\n",
    "df2['Title'] = df2['Title'].replace('Mlle', 'Miss')\n",
    "df2['Title'] = df2['Title'].replace('Ms', 'Miss')\n",
    "df2['Title'] = df2['Title'].replace('Mme', 'Mrs')\n",
    "title_mapping = {\"Mr\": 1, \"Miss\": 2, \"Mrs\": 3, \"Master\": 4, \"Rare\": 5}\n",
    "df2['Title'] = df2['Title'].map(title_mapping)\n",
    "df2['Title'] = df2['Title'].fillna(0)\n",
    "\n",
    "#df2[\"Cabin\"] = pd.Series([i[0] if not pd.isnull(i) else 'X' for i in df2['Cabin'] ]) #zmapowac na inty\n",
    "#df2['Cabin'] = df2['Cabin'].map({'A': 1, 'B': 1, 'C': 1, 'D': 1, 'E': 1, 'F': 1, 'G': 1, 'T': 1})\n",
    "df2 = df2.drop(columns = ['Name', 'Cabin', 'Ticket', 'Fare', 'Name_length'])\n",
    "\n",
    "#print(df1)\n",
    "#print(df2)"
   ]
  },
  {
   "cell_type": "code",
   "execution_count": 3,
   "metadata": {},
   "outputs": [],
   "source": [
    "X = df1.drop('Survived', axis = 1)\n",
    "y = df1['Survived']\n",
    "\n",
    "skf = StratifiedKFold(n_splits = 4) #pobawic sie z iloscia splitow\n",
    "skf.get_n_splits(X, y)\n",
    "\n",
    "for train_index, test_index in skf.split(X, y):\n",
    "    X_train, X_test = X.iloc[train_index], X.iloc[test_index]\n",
    "    y_train, y_test = y.iloc[train_index], y.iloc[test_index]\n",
    "\n",
    "sc = StandardScaler()\n",
    "X_train = sc.fit_transform(X_train)\n",
    "X_test = sc.transform(X_test)\n",
    "    \n",
    "lm = linear_model.LinearRegression()\n",
    "model = lm.fit(X_train, y_train)\n",
    "\n",
    "y_predict = model.predict(X_test)\n",
    "# for i in range(222):\n",
    "#     if y_predict[i] >= 0.4:\n",
    "#        y_predict[i] = 1\n",
    "#     else:  \n",
    "#        y_predict[i] = 0\n",
    "\n",
    "# accuracy_score(y_test, y_predict)"
   ]
  },
  {
   "cell_type": "code",
   "execution_count": 4,
   "metadata": {},
   "outputs": [
    {
     "name": "stdout",
     "output_type": "stream",
     "text": [
      "-0.35458714684040893\n",
      "1.1965738599281752\n"
     ]
    }
   ],
   "source": [
    "#df2 = sc.transform(df2)\n",
    "#y2_pred = clf.predict(df2)\n",
    "#print(df2)\n",
    "\n",
    "Xt = df2.drop(columns = ['PassengerId'])\n",
    "yt = df2['PassengerId']\n",
    "\n",
    "yt = yt.reset_index(drop=True)\n",
    "yt = pd.DataFrame(np.array(yt).reshape(len(yt)), columns = ['PassengerId'])\n",
    "#print(yt)\n",
    "\n",
    "ytt = sc.transform(Xt)\n",
    "\n",
    "yt2_predict = model.predict(ytt)\n",
    "\n",
    "reg_pdict = pd.DataFrame({'reg': yt2_predict})\n",
    "reg_pdict.to_csv('pdb-reg.csv', index = False)\n",
    "\n",
    "#print(yt2_predict)\n",
    "\n",
    "# for i in range(418):\n",
    "#     if yt2_predict[i] >= 0.4:\n",
    "#        yt2_predict[i] = 1\n",
    "#     else:  \n",
    "#        yt2_predict[i] = 0\n",
    "\n",
    "#print(yt2_predict)\n",
    "print(min(yt2_predict))\n",
    "print(max(yt2_predict))   \n",
    "    \n",
    "df2t = pd.DataFrame(yt2_predict, columns = ['Survived'])\n",
    "#print(df2t)\n",
    "\n",
    "yt['Survived'] = df2t['Survived']\n",
    "# yt.Survived = yt.Survived.astype(int)\n",
    "# print(yt)\n",
    "\n",
    "yt.to_csv('wynik-reg.csv', index = False)"
   ]
  },
  {
   "cell_type": "code",
   "execution_count": 5,
   "metadata": {
    "scrolled": true
   },
   "outputs": [
    {
     "data": {
      "text/plain": [
       "0.121311    26\n",
       "0.144630    12\n",
       "0.666609    10\n",
       "0.167948     7\n",
       "0.108292     6\n",
       "0.073575     5\n",
       "0.335030     4\n",
       "0.095273     4\n",
       "0.103952     4\n",
       "0.116971     3\n",
       "0.090933     3\n",
       "0.099613     3\n",
       "0.228170     3\n",
       "0.210812     3\n",
       "0.643291     3\n",
       "0.112642     3\n",
       "0.634611     3\n",
       "0.241189     2\n",
       "0.442964     2\n",
       "0.679628     2\n",
       "0.747829     2\n",
       "0.730993     2\n",
       "0.374639     2\n",
       "0.704309     2\n",
       "0.125651     2\n",
       "0.351831     2\n",
       "0.638951     2\n",
       "0.163608     2\n",
       "0.197793     2\n",
       "0.180434     2\n",
       "            ..\n",
       "0.023737     1\n",
       "0.926807     1\n",
       "0.959505     1\n",
       "0.790649     1\n",
       "0.213519     1\n",
       "0.172288     1\n",
       "1.093905     1\n",
       "0.758829     1\n",
       "0.338823     1\n",
       "0.151689     1\n",
       "0.865288     1\n",
       "0.950877     1\n",
       "0.888437     1\n",
       "0.672028     1\n",
       "0.055815     1\n",
       "0.188014     1\n",
       "0.884509     1\n",
       "0.633419     1\n",
       "0.990558     1\n",
       "0.746214     1\n",
       "0.855143     1\n",
       "0.772112     1\n",
       "0.513961     1\n",
       "0.141910     1\n",
       "0.173957     1\n",
       "0.888595     1\n",
       "0.703856     1\n",
       "0.543558     1\n",
       "0.236850     1\n",
       "0.411487     1\n",
       "Name: Survived, Length: 303, dtype: int64"
      ]
     },
     "execution_count": 5,
     "metadata": {},
     "output_type": "execute_result"
    }
   ],
   "source": [
    "yt.Survived.value_counts()"
   ]
  },
  {
   "cell_type": "code",
   "execution_count": 6,
   "metadata": {},
   "outputs": [
    {
     "data": {
      "text/plain": [
       "<matplotlib.collections.PathCollection at 0x7f351cafa518>"
      ]
     },
     "execution_count": 6,
     "metadata": {},
     "output_type": "execute_result"
    },
    {
     "data": {
      "image/png": "[encoded data removed]",
      "text/plain": [
       "<Figure size 432x288 with 1 Axes>"
      ]
     },
     "metadata": {},
     "output_type": "display_data"
    }
   ],
   "source": [
    "pt = df2['PassengerId']\n",
    "\n",
    "#pt = pt.reset_index(drop=True)\n",
    "#pt = pd.DataFrame(np.array(pt).reshape(len(pt)), columns = ['PassengerId'])\n",
    "\n",
    "plt.scatter(yt2_predict,yt2_predict)\n"
   ]
  },
  {
   "cell_type": "code",
   "execution_count": 7,
   "metadata": {},
   "outputs": [
    {
     "data": {
      "image/png": "[encoded data removed]",
      "text/plain": [
       "<Figure size 432x288 with 1 Axes>"
      ]
     },
     "metadata": {},
     "output_type": "display_data"
    }
   ],
   "source": [
    "actual = y_test #df1['Survived']\n",
    "predictions = y_predict #df2t\n",
    "\n",
    "#print(actual)\n",
    "#print(predictions)\n",
    "\n",
    "false_positive_rate, true_positive_rate, thresholds = roc_curve(actual, predictions)\n",
    "roc_auc = auc(false_positive_rate, true_positive_rate)\n",
    "\n",
    "plt.title('Receiver Operating Characteristic')\n",
    "plt.plot(false_positive_rate, true_positive_rate, 'b', label = 'AUC = %0.2f'% roc_auc)\n",
    "plt.legend(loc = 'lower right')\n",
    "plt.plot([0,1],[0,1],'r--')\n",
    "plt.xlim([-0.1,1.2])\n",
    "plt.ylim([-0.1,1.2])\n",
    "plt.ylabel('True Positive Rate')\n",
    "plt.xlabel('False Positive Rate')\n",
    "plt.show()"
   ]
  },
  {
   "cell_type": "code",
   "execution_count": null,
   "metadata": {},
   "outputs": [],
   "source": []
  },
  {
   "cell_type": "code",
   "execution_count": null,
   "metadata": {},
   "outputs": [],
   "source": []
  }
 ],
 "metadata": {
  "kernelspec": {
   "display_name": "Python 3",
   "language": "python",
   "name": "python3"
  },
  "language_info": {
   "codemirror_mode": {
    "name": "ipython",
    "version": 3
   },
   "file_extension": ".py",
   "mimetype": "text/x-python",
   "name": "python",
   "nbconvert_exporter": "python",
   "pygments_lexer": "ipython3",
   "version": "3.6.5"
  }
 },
 "nbformat": 4,
 "nbformat_minor": 2
}
