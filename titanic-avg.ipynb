{
 "cells": [
  {
   "cell_type": "code",
   "execution_count": 1,
   "metadata": {},
   "outputs": [],
   "source": [
    "import numpy as np\n",
    "import pandas as pd\n",
    "import matplotlib.pyplot as plt\n",
    "from matplotlib.ticker import NullFormatter"
   ]
  },
  {
   "cell_type": "code",
   "execution_count": 2,
   "metadata": {},
   "outputs": [],
   "source": [
    "pid = pd.read_csv('test.csv')#['PassengerId']\n",
    "pid = pid.drop(columns = ['Pclass', 'Name', 'Cabin', 'Ticket', 'Fare', 'Sex', 'Age', 'SibSp', 'Parch', 'Embarked'])\n",
    "#print(pid)\n",
    "lgbm_pdb = pd.read_csv('pdb-lgbm.csv')\n",
    "#print(lgbm_pdb)\n",
    "xgb_pdb = pd.read_csv('pdb-xgb.csv')\n",
    "#print(xgb_pdb)\n",
    "reg_pdb = pd.read_csv('pdb-reg.csv')\n",
    "#print(reg_pdb)"
   ]
  },
  {
   "cell_type": "code",
   "execution_count": 3,
   "metadata": {
    "scrolled": true
   },
   "outputs": [],
   "source": [
    "pdb = pd.DataFrame()\n",
    "pdb['lgbm'] = lgbm_pdb['lgbm']\n",
    "pdb['xgb'] = xgb_pdb['xgb']\n",
    "pdb['reg'] = reg_pdb['reg']\n",
    "pdb['Suma'] = np.NaN\n",
    "#print(pdb)"
   ]
  },
  {
   "cell_type": "code",
   "execution_count": 4,
   "metadata": {
    "scrolled": true
   },
   "outputs": [],
   "source": [
    "lgbm_pdb = lgbm_pdb.assign(Normal = pd.Series())\n",
    "\n",
    "for i in range(0, len(lgbm_pdb)):\n",
    "    lgbm_pdb['Normal'][i] = (lgbm_pdb['lgbm'][i] - lgbm_pdb['lgbm'].min()) / (lgbm_pdb['lgbm'].max() - lgbm_pdb['lgbm'].min())\n",
    "    \n",
    "#print(lgbm_pdb)"
   ]
  },
  {
   "cell_type": "code",
   "execution_count": 5,
   "metadata": {
    "scrolled": true
   },
   "outputs": [],
   "source": [
    "xgb_pdb = xgb_pdb.assign(Normal = pd.Series())\n",
    "\n",
    "for i in range(len(xgb_pdb)):\n",
    "    xgb_pdb['Normal'][i] = (xgb_pdb['xgb'][i] - xgb_pdb['xgb'].min()) / (xgb_pdb['xgb'].max() - xgb_pdb['xgb'].min())\n",
    "    \n",
    "#print(xgb_pdb)"
   ]
  },
  {
   "cell_type": "code",
   "execution_count": 6,
   "metadata": {
    "scrolled": true
   },
   "outputs": [],
   "source": [
    "#pozmieniac cos bo wartosci przy min moga byc ujemne (?)\n",
    "\n",
    "#print(reg_pdb['reg'].min())\n",
    "\n",
    "reg_pdb = reg_pdb.assign(Normal = pd.Series())\n",
    "\n",
    "for i in range(0, len(reg_pdb)):\n",
    "    reg_pdb['Normal'][i] = (reg_pdb['reg'][i] - reg_pdb['reg'].min()) / (reg_pdb['reg'].max() - reg_pdb['reg'].min())\n",
    "    \n",
    "#print(reg_pdb)"
   ]
  },
  {
   "cell_type": "code",
   "execution_count": 7,
   "metadata": {},
   "outputs": [],
   "source": [
    "# kek1 = reg_pdb['Normal']\n",
    "# kek2 = xgb_pdb['Normal']\n",
    "# kek3 = lgbm_pdb['Normal']\n",
    "\n",
    "# for i in range(418):\n",
    "#     if kek1[i] >= 0.5599:\n",
    "#         kek1[i] = 1\n",
    "#     else:  \n",
    "#         kek1[i] = 0\n",
    "        \n",
    "# umarlo1 = (1 - sum(kek1) / 418) * 100\n",
    "\n",
    "# for i in range(418):\n",
    "#     if kek2[i] >= 0.539:\n",
    "#         kek2[i] = 1\n",
    "#     else:  \n",
    "#         kek2[i] = 0\n",
    "        \n",
    "# umarlo2 = (1 - sum(kek2) / 418) * 100\n",
    "\n",
    "# for i in range(418):\n",
    "#     if kek3[i] >= 0.474:\n",
    "#         kek3[i] = 1\n",
    "#     else:  \n",
    "#         kek3[i] = 0\n",
    "        \n",
    "# umarlo3 = (1 - sum(kek3) / 418) * 100\n",
    "\n",
    "# print('[Reg] Umarło: ', umarlo1, '% pasażerów.')\n",
    "# print('[XGB] Umarło: ', umarlo2, '% pasażerów.')\n",
    "# print('[LGBM] Umarło: ', umarlo3, '% pasażerów.')"
   ]
  },
  {
   "cell_type": "code",
   "execution_count": 8,
   "metadata": {},
   "outputs": [],
   "source": [
    "#przemiana danych\n",
    "\n",
    "for i in  range(0, 418):\n",
    "    if(0 <= lgbm_pdb['Normal'][i] < 0.29):\n",
    "        lgbm_pdb['Normal'][i] = 0\n",
    "    elif(0.29 <= lgbm_pdb['Normal'][i] < 0.5):\n",
    "        lgbm_pdb['Normal'][i] = 0.4\n",
    "    elif(0.5 <= lgbm_pdb['Normal'][i] < 0.7):\n",
    "        lgbm_pdb['Normal'][i] = 0.6\n",
    "    elif(0.7 <= lgbm_pdb['Normal'][i] < 0.9):\n",
    "        lgbm_pdb['Normal'][i] = 0.8\n",
    "    elif(0.9 <= lgbm_pdb['Normal'][i] <= 1):\n",
    "        lgbm_pdb['Normal'][i] = 1\n",
    "    else:\n",
    "        lgbm_pdb['Normal'][i] = lgbm_pdb['Normal'][i]\n",
    "        \n",
    "# print(lgbm_pdb)\n",
    "# lgbm_pdb['Normal'].value_counts()"
   ]
  },
  {
   "cell_type": "code",
   "execution_count": 9,
   "metadata": {
    "scrolled": true
   },
   "outputs": [
    {
     "data": {
      "text/plain": [
       "0.0    225\n",
       "0.6     53\n",
       "1.0     49\n",
       "0.8     46\n",
       "0.4     45\n",
       "Name: Normal, dtype: int64"
      ]
     },
     "execution_count": 9,
     "metadata": {},
     "output_type": "execute_result"
    }
   ],
   "source": [
    "lgbm_pdb['Normal'].value_counts()"
   ]
  },
  {
   "cell_type": "code",
   "execution_count": 10,
   "metadata": {},
   "outputs": [],
   "source": [
    "#przemiana danych\n",
    "\n",
    "for i in  range(0, 418):\n",
    "    if(0 <= xgb_pdb['Normal'][i] < 0.18):\n",
    "        xgb_pdb['Normal'][i] = 0\n",
    "    elif(0.18 <= xgb_pdb['Normal'][i] < 0.3):\n",
    "        xgb_pdb['Normal'][i] = 0.2\n",
    "    elif(0.3 <= xgb_pdb['Normal'][i] < 0.5):\n",
    "        xgb_pdb['Normal'][i] = 0.4\n",
    "    elif(0.5 <= xgb_pdb['Normal'][i] < 0.69):\n",
    "        xgb_pdb['Normal'][i] = 0.6\n",
    "    elif(0.69 <= xgb_pdb['Normal'][i] < 0.83):\n",
    "        xgb_pdb['Normal'][i] = 0.8\n",
    "    elif(0.83 <= xgb_pdb['Normal'][i] <= 1):\n",
    "        xgb_pdb['Normal'][i] = 1\n",
    "    else:\n",
    "        xgb_pdb['Normal'][i] = xgb_pdb['Normal'][i]\n",
    "        \n",
    "# print(xgb_pdb)\n",
    "# xgb_pdb['Normal'].value_counts()"
   ]
  },
  {
   "cell_type": "code",
   "execution_count": 11,
   "metadata": {},
   "outputs": [
    {
     "data": {
      "text/plain": [
       "0.0    182\n",
       "1.0     83\n",
       "0.6     51\n",
       "0.2     45\n",
       "0.4     31\n",
       "0.8     26\n",
       "Name: Normal, dtype: int64"
      ]
     },
     "execution_count": 11,
     "metadata": {},
     "output_type": "execute_result"
    }
   ],
   "source": [
    "xgb_pdb['Normal'].value_counts()"
   ]
  },
  {
   "cell_type": "code",
   "execution_count": 12,
   "metadata": {},
   "outputs": [],
   "source": [
    "#przemiana danych\n",
    "\n",
    "for i in  range(0, 418):\n",
    "    if(0 <= reg_pdb['Normal'][i] < 0.15):\n",
    "        reg_pdb['Normal'][i] = 0\n",
    "    elif(0.15 <= reg_pdb['Normal'][i] < 0.225):\n",
    "        reg_pdb['Normal'][i] = 0.2\n",
    "    elif(0.225 <= reg_pdb['Normal'][i] < 0.51):\n",
    "        reg_pdb['Normal'][i] = 0.4\n",
    "    elif(0.51 <= reg_pdb['Normal'][i] < 0.72):\n",
    "        reg_pdb['Normal'][i] = 0.6\n",
    "    elif(0.72 <= reg_pdb['Normal'][i] < 0.9):\n",
    "        reg_pdb['Normal'][i] = 0.8\n",
    "    elif(0.9 <= reg_pdb['Normal'][i] <= 1):\n",
    "        reg_pdb['Normal'][i] = 1\n",
    "    else:\n",
    "        reg_pdb['Normal'][i] = reg_pdb['Normal'][i]\n",
    "        \n",
    "# print(reg_pdb)\n",
    "# reg_pdb['Normal'].value_counts()"
   ]
  },
  {
   "cell_type": "code",
   "execution_count": 13,
   "metadata": {},
   "outputs": [
    {
     "data": {
      "text/plain": [
       "0.4    238\n",
       "0.6     99\n",
       "0.8     69\n",
       "0.2      4\n",
       "0.0      4\n",
       "1.0      4\n",
       "Name: Normal, dtype: int64"
      ]
     },
     "execution_count": 13,
     "metadata": {},
     "output_type": "execute_result"
    }
   ],
   "source": [
    "reg_pdb['Normal'].value_counts()"
   ]
  },
  {
   "cell_type": "code",
   "execution_count": 14,
   "metadata": {},
   "outputs": [],
   "source": [
    "def oblicz_avg(pid, lgbm, xgb, reg):\n",
    "    values = [lgbm, xgb, reg]\n",
    "    weights = [90, 91, 44]\n",
    "    \n",
    "    s = 0\n",
    "    for x, y in zip(values, weights):\n",
    "        s += x * y\n",
    "        \n",
    "    pid = s / sum(weights)\n",
    "    return pid"
   ]
  },
  {
   "cell_type": "code",
   "execution_count": 10,
   "metadata": {
    "scrolled": true
   },
   "outputs": [
    {
     "name": "stdout",
     "output_type": "stream",
     "text": [
      "     PassengerId  Survived\n",
      "0            892       NaN\n",
      "1            893       NaN\n",
      "2            894       NaN\n",
      "3            895       NaN\n",
      "4            896       NaN\n",
      "5            897       NaN\n",
      "6            898       NaN\n",
      "7            899       NaN\n",
      "8            900       NaN\n",
      "9            901       NaN\n",
      "10           902       NaN\n",
      "11           903       NaN\n",
      "12           904       NaN\n",
      "13           905       NaN\n",
      "14           906       NaN\n",
      "15           907       NaN\n",
      "16           908       NaN\n",
      "17           909       NaN\n",
      "18           910       NaN\n",
      "19           911       NaN\n",
      "20           912       NaN\n",
      "21           913       NaN\n",
      "22           914       NaN\n",
      "23           915       NaN\n",
      "24           916       NaN\n",
      "25           917       NaN\n",
      "26           918       NaN\n",
      "27           919       NaN\n",
      "28           920       NaN\n",
      "29           921       NaN\n",
      "..           ...       ...\n",
      "388         1280       NaN\n",
      "389         1281       NaN\n",
      "390         1282       NaN\n",
      "391         1283       NaN\n",
      "392         1284       NaN\n",
      "393         1285       NaN\n",
      "394         1286       NaN\n",
      "395         1287       NaN\n",
      "396         1288       NaN\n",
      "397         1289       NaN\n",
      "398         1290       NaN\n",
      "399         1291       NaN\n",
      "400         1292       NaN\n",
      "401         1293       NaN\n",
      "402         1294       NaN\n",
      "403         1295       NaN\n",
      "404         1296       NaN\n",
      "405         1297       NaN\n",
      "406         1298       NaN\n",
      "407         1299       NaN\n",
      "408         1300       NaN\n",
      "409         1301       NaN\n",
      "410         1302       NaN\n",
      "411         1303       NaN\n",
      "412         1304       NaN\n",
      "413         1305       NaN\n",
      "414         1306       NaN\n",
      "415         1307       NaN\n",
      "416         1308       NaN\n",
      "417         1309       NaN\n",
      "\n",
      "[418 rows x 2 columns]\n"
     ]
    }
   ],
   "source": [
    "pid = pid.assign(Survived = pd.Series())\n",
    "#print(pid)\n",
    "\n",
    "# for i in range(0, 418):\n",
    "#     if(lgbm_pdb['Normal'][i] >= 0.8 and xgb_pdb['Normal'][i] >= 0.8):\n",
    "#         pid['Survived'][i] = 1\n",
    "        \n",
    "#     elif(lgbm_pdb['Normal'][i] <= 0.2 and xgb_pdb['Normal'][i] <= 0.2):\n",
    "#         pid['Survived'][i] = 0\n",
    "\n",
    "#     elif((xgb_pdb['Normal'][i] <= 0.4 and reg_pdb['Normal'][i] <= 0.4) or (lgbm_pdb['Normal'][i] <= 0.4 and reg_pdb['Normal'][i] <= 0.4)):\n",
    "#         pid['Survived'][i] = 0\n",
    "\n",
    "#     elif((xgb_pdb['Normal'][i] >= 0.6 and reg_pdb['Normal'][i] >= 0.6) or (lgbm_pdb['Normal'][i] >= 0.6 and reg_pdb['Normal'][i] >= 0.6)):\n",
    "#         pid['Survived'][i] = 1\n",
    "\n",
    "#     else:\n",
    "#         pid['Survived'][i] = oblicz_avg(pid['Survived'][i], lgbm_pdb['Normal'][i], xgb_pdb['Normal'][i], reg_pdb['Normal'][i])\n",
    "#         print(pid['Survived'][i])\n",
    "        \n",
    "#         if(pid['Survived'][i] >= 0.5):\n",
    "#             pid['Survived'][i] = 1\n",
    "#         if(pid['Survived'][i] < 0.5):\n",
    "#             pid['Survived'][i] = 0\n",
    "\n",
    "print(pid)"
   ]
  },
  {
   "cell_type": "code",
   "execution_count": 11,
   "metadata": {
    "scrolled": true
   },
   "outputs": [
    {
     "data": {
      "text/plain": [
       "Series([], Name: Survived, dtype: int64)"
      ]
     },
     "execution_count": 11,
     "metadata": {},
     "output_type": "execute_result"
    }
   ],
   "source": [
    "pid['Survived'].value_counts() "
   ]
  },
  {
   "cell_type": "code",
   "execution_count": 17,
   "metadata": {},
   "outputs": [
    {
     "name": "stdout",
     "output_type": "stream",
     "text": [
      "[AVG] Umarło:  nan % pasażerów.\n"
     ]
    }
   ],
   "source": [
    "umarloavg = (1 - sum(pid['Survived']) / 418) * 100\n",
    "    \n",
    "print('[AVG] Umarło: ', umarloavg, '% pasażerów.')"
   ]
  },
  {
   "cell_type": "code",
   "execution_count": 18,
   "metadata": {
    "scrolled": false
   },
   "outputs": [
    {
     "data": {
      "image/png": "[encoded data removed]",
      "text/plain": [
       "<Figure size 1440x1280 with 4 Axes>"
      ]
     },
     "metadata": {},
     "output_type": "display_data"
    }
   ],
   "source": [
    "fig=plt.figure(figsize=(18, 16), dpi= 80, facecolor='w', edgecolor='k')\n",
    "\n",
    "plt.subplot(221)\n",
    "plt.title('pid')\n",
    "pidplt = plt.scatter(pid['Survived'], pid['Survived'], color = 'red')\n",
    "plt.grid(True)\n",
    "\n",
    "plt.subplot(222)\n",
    "plt.title('reg')\n",
    "regplt = plt.scatter(reg_pdb['Normal'], reg_pdb['Normal'])\n",
    "plt.grid(True)\n",
    "\n",
    "# plt.figure(2)\n",
    "plt.subplot(223)\n",
    "plt.title('xgb')\n",
    "xgbplt = plt.scatter(xgb_pdb['Normal'], xgb_pdb['Normal'])\n",
    "plt.grid(True)\n",
    "\n",
    "plt.subplot(224)\n",
    "plt.title('lgbm')\n",
    "lgbmplt = plt.scatter(lgbm_pdb['Normal'], lgbm_pdb['Normal'])\n",
    "plt.grid(True)\n",
    "\n",
    "plt.gca().yaxis.set_minor_formatter(NullFormatter())\n",
    "plt.subplots_adjust(top = 0.92, bottom = 0.2, left = 0.10, right = 0.95, hspace = 0.3, wspace = 0.25)\n",
    "\n",
    "plt.show()"
   ]
  },
  {
   "cell_type": "code",
   "execution_count": 19,
   "metadata": {},
   "outputs": [
    {
     "ename": "ValueError",
     "evalue": "Cannot convert non-finite values (NA or inf) to integer",
     "output_type": "error",
     "traceback": [
      "\u001b[0;31m---------------------------------------------------------------------------\u001b[0m",
      "\u001b[0;31mValueError\u001b[0m                                Traceback (most recent call last)",
      "\u001b[0;32m<ipython-input-19-d6382cf5aa2f>\u001b[0m in \u001b[0;36m<module>\u001b[0;34m()\u001b[0m\n\u001b[0;32m----> 1\u001b[0;31m \u001b[0mpid\u001b[0m\u001b[0;34m[\u001b[0m\u001b[0;34m'Survived'\u001b[0m\u001b[0;34m]\u001b[0m \u001b[0;34m=\u001b[0m \u001b[0mpid\u001b[0m\u001b[0;34m[\u001b[0m\u001b[0;34m'Survived'\u001b[0m\u001b[0;34m]\u001b[0m\u001b[0;34m.\u001b[0m\u001b[0mastype\u001b[0m\u001b[0;34m(\u001b[0m\u001b[0mint\u001b[0m\u001b[0;34m)\u001b[0m\u001b[0;34m\u001b[0m\u001b[0m\n\u001b[0m\u001b[1;32m      2\u001b[0m \u001b[0mpid\u001b[0m\u001b[0;34m.\u001b[0m\u001b[0mto_csv\u001b[0m\u001b[0;34m(\u001b[0m\u001b[0;34m'wynik-avg.csv'\u001b[0m\u001b[0;34m,\u001b[0m \u001b[0mindex\u001b[0m \u001b[0;34m=\u001b[0m \u001b[0;32mFalse\u001b[0m\u001b[0;34m)\u001b[0m\u001b[0;34m\u001b[0m\u001b[0m\n",
      "\u001b[0;32m~/anaconda3/lib/python3.6/site-packages/pandas/util/_decorators.py\u001b[0m in \u001b[0;36mwrapper\u001b[0;34m(*args, **kwargs)\u001b[0m\n\u001b[1;32m    175\u001b[0m                 \u001b[0;32melse\u001b[0m\u001b[0;34m:\u001b[0m\u001b[0;34m\u001b[0m\u001b[0m\n\u001b[1;32m    176\u001b[0m                     \u001b[0mkwargs\u001b[0m\u001b[0;34m[\u001b[0m\u001b[0mnew_arg_name\u001b[0m\u001b[0;34m]\u001b[0m \u001b[0;34m=\u001b[0m \u001b[0mnew_arg_value\u001b[0m\u001b[0;34m\u001b[0m\u001b[0m\n\u001b[0;32m--> 177\u001b[0;31m             \u001b[0;32mreturn\u001b[0m \u001b[0mfunc\u001b[0m\u001b[0;34m(\u001b[0m\u001b[0;34m*\u001b[0m\u001b[0margs\u001b[0m\u001b[0;34m,\u001b[0m \u001b[0;34m**\u001b[0m\u001b[0mkwargs\u001b[0m\u001b[0;34m)\u001b[0m\u001b[0;34m\u001b[0m\u001b[0m\n\u001b[0m\u001b[1;32m    178\u001b[0m         \u001b[0;32mreturn\u001b[0m \u001b[0mwrapper\u001b[0m\u001b[0;34m\u001b[0m\u001b[0m\n\u001b[1;32m    179\u001b[0m     \u001b[0;32mreturn\u001b[0m \u001b[0m_deprecate_kwarg\u001b[0m\u001b[0;34m\u001b[0m\u001b[0m\n",
      "\u001b[0;32m~/anaconda3/lib/python3.6/site-packages/pandas/core/generic.py\u001b[0m in \u001b[0;36mastype\u001b[0;34m(self, dtype, copy, errors, **kwargs)\u001b[0m\n\u001b[1;32m   4995\u001b[0m             \u001b[0;31m# else, only a single dtype is given\u001b[0m\u001b[0;34m\u001b[0m\u001b[0;34m\u001b[0m\u001b[0m\n\u001b[1;32m   4996\u001b[0m             new_data = self._data.astype(dtype=dtype, copy=copy, errors=errors,\n\u001b[0;32m-> 4997\u001b[0;31m                                          **kwargs)\n\u001b[0m\u001b[1;32m   4998\u001b[0m             \u001b[0;32mreturn\u001b[0m \u001b[0mself\u001b[0m\u001b[0;34m.\u001b[0m\u001b[0m_constructor\u001b[0m\u001b[0;34m(\u001b[0m\u001b[0mnew_data\u001b[0m\u001b[0;34m)\u001b[0m\u001b[0;34m.\u001b[0m\u001b[0m__finalize__\u001b[0m\u001b[0;34m(\u001b[0m\u001b[0mself\u001b[0m\u001b[0;34m)\u001b[0m\u001b[0;34m\u001b[0m\u001b[0m\n\u001b[1;32m   4999\u001b[0m \u001b[0;34m\u001b[0m\u001b[0m\n",
      "\u001b[0;32m~/anaconda3/lib/python3.6/site-packages/pandas/core/internals.py\u001b[0m in \u001b[0;36mastype\u001b[0;34m(self, dtype, **kwargs)\u001b[0m\n\u001b[1;32m   3712\u001b[0m \u001b[0;34m\u001b[0m\u001b[0m\n\u001b[1;32m   3713\u001b[0m     \u001b[0;32mdef\u001b[0m \u001b[0mastype\u001b[0m\u001b[0;34m(\u001b[0m\u001b[0mself\u001b[0m\u001b[0;34m,\u001b[0m \u001b[0mdtype\u001b[0m\u001b[0;34m,\u001b[0m \u001b[0;34m**\u001b[0m\u001b[0mkwargs\u001b[0m\u001b[0;34m)\u001b[0m\u001b[0;34m:\u001b[0m\u001b[0;34m\u001b[0m\u001b[0m\n\u001b[0;32m-> 3714\u001b[0;31m         \u001b[0;32mreturn\u001b[0m \u001b[0mself\u001b[0m\u001b[0;34m.\u001b[0m\u001b[0mapply\u001b[0m\u001b[0;34m(\u001b[0m\u001b[0;34m'astype'\u001b[0m\u001b[0;34m,\u001b[0m \u001b[0mdtype\u001b[0m\u001b[0;34m=\u001b[0m\u001b[0mdtype\u001b[0m\u001b[0;34m,\u001b[0m \u001b[0;34m**\u001b[0m\u001b[0mkwargs\u001b[0m\u001b[0;34m)\u001b[0m\u001b[0;34m\u001b[0m\u001b[0m\n\u001b[0m\u001b[1;32m   3715\u001b[0m \u001b[0;34m\u001b[0m\u001b[0m\n\u001b[1;32m   3716\u001b[0m     \u001b[0;32mdef\u001b[0m \u001b[0mconvert\u001b[0m\u001b[0;34m(\u001b[0m\u001b[0mself\u001b[0m\u001b[0;34m,\u001b[0m \u001b[0;34m**\u001b[0m\u001b[0mkwargs\u001b[0m\u001b[0;34m)\u001b[0m\u001b[0;34m:\u001b[0m\u001b[0;34m\u001b[0m\u001b[0m\n",
      "\u001b[0;32m~/anaconda3/lib/python3.6/site-packages/pandas/core/internals.py\u001b[0m in \u001b[0;36mapply\u001b[0;34m(self, f, axes, filter, do_integrity_check, consolidate, **kwargs)\u001b[0m\n\u001b[1;32m   3579\u001b[0m \u001b[0;34m\u001b[0m\u001b[0m\n\u001b[1;32m   3580\u001b[0m             \u001b[0mkwargs\u001b[0m\u001b[0;34m[\u001b[0m\u001b[0;34m'mgr'\u001b[0m\u001b[0;34m]\u001b[0m \u001b[0;34m=\u001b[0m \u001b[0mself\u001b[0m\u001b[0;34m\u001b[0m\u001b[0m\n\u001b[0;32m-> 3581\u001b[0;31m             \u001b[0mapplied\u001b[0m \u001b[0;34m=\u001b[0m \u001b[0mgetattr\u001b[0m\u001b[0;34m(\u001b[0m\u001b[0mb\u001b[0m\u001b[0;34m,\u001b[0m \u001b[0mf\u001b[0m\u001b[0;34m)\u001b[0m\u001b[0;34m(\u001b[0m\u001b[0;34m**\u001b[0m\u001b[0mkwargs\u001b[0m\u001b[0;34m)\u001b[0m\u001b[0;34m\u001b[0m\u001b[0m\n\u001b[0m\u001b[1;32m   3582\u001b[0m             \u001b[0mresult_blocks\u001b[0m \u001b[0;34m=\u001b[0m \u001b[0m_extend_blocks\u001b[0m\u001b[0;34m(\u001b[0m\u001b[0mapplied\u001b[0m\u001b[0;34m,\u001b[0m \u001b[0mresult_blocks\u001b[0m\u001b[0;34m)\u001b[0m\u001b[0;34m\u001b[0m\u001b[0m\n\u001b[1;32m   3583\u001b[0m \u001b[0;34m\u001b[0m\u001b[0m\n",
      "\u001b[0;32m~/anaconda3/lib/python3.6/site-packages/pandas/core/internals.py\u001b[0m in \u001b[0;36mastype\u001b[0;34m(self, dtype, copy, errors, values, **kwargs)\u001b[0m\n\u001b[1;32m    573\u001b[0m     \u001b[0;32mdef\u001b[0m \u001b[0mastype\u001b[0m\u001b[0;34m(\u001b[0m\u001b[0mself\u001b[0m\u001b[0;34m,\u001b[0m \u001b[0mdtype\u001b[0m\u001b[0;34m,\u001b[0m \u001b[0mcopy\u001b[0m\u001b[0;34m=\u001b[0m\u001b[0;32mFalse\u001b[0m\u001b[0;34m,\u001b[0m \u001b[0merrors\u001b[0m\u001b[0;34m=\u001b[0m\u001b[0;34m'raise'\u001b[0m\u001b[0;34m,\u001b[0m \u001b[0mvalues\u001b[0m\u001b[0;34m=\u001b[0m\u001b[0;32mNone\u001b[0m\u001b[0;34m,\u001b[0m \u001b[0;34m**\u001b[0m\u001b[0mkwargs\u001b[0m\u001b[0;34m)\u001b[0m\u001b[0;34m:\u001b[0m\u001b[0;34m\u001b[0m\u001b[0m\n\u001b[1;32m    574\u001b[0m         return self._astype(dtype, copy=copy, errors=errors, values=values,\n\u001b[0;32m--> 575\u001b[0;31m                             **kwargs)\n\u001b[0m\u001b[1;32m    576\u001b[0m \u001b[0;34m\u001b[0m\u001b[0m\n\u001b[1;32m    577\u001b[0m     def _astype(self, dtype, copy=False, errors='raise', values=None,\n",
      "\u001b[0;32m~/anaconda3/lib/python3.6/site-packages/pandas/core/internals.py\u001b[0m in \u001b[0;36m_astype\u001b[0;34m(self, dtype, copy, errors, values, klass, mgr, **kwargs)\u001b[0m\n\u001b[1;32m    662\u001b[0m \u001b[0;34m\u001b[0m\u001b[0m\n\u001b[1;32m    663\u001b[0m                 \u001b[0;31m# _astype_nansafe works fine with 1-d only\u001b[0m\u001b[0;34m\u001b[0m\u001b[0;34m\u001b[0m\u001b[0m\n\u001b[0;32m--> 664\u001b[0;31m                 \u001b[0mvalues\u001b[0m \u001b[0;34m=\u001b[0m \u001b[0mastype_nansafe\u001b[0m\u001b[0;34m(\u001b[0m\u001b[0mvalues\u001b[0m\u001b[0;34m.\u001b[0m\u001b[0mravel\u001b[0m\u001b[0;34m(\u001b[0m\u001b[0;34m)\u001b[0m\u001b[0;34m,\u001b[0m \u001b[0mdtype\u001b[0m\u001b[0;34m,\u001b[0m \u001b[0mcopy\u001b[0m\u001b[0;34m=\u001b[0m\u001b[0;32mTrue\u001b[0m\u001b[0;34m)\u001b[0m\u001b[0;34m\u001b[0m\u001b[0m\n\u001b[0m\u001b[1;32m    665\u001b[0m                 \u001b[0mvalues\u001b[0m \u001b[0;34m=\u001b[0m \u001b[0mvalues\u001b[0m\u001b[0;34m.\u001b[0m\u001b[0mreshape\u001b[0m\u001b[0;34m(\u001b[0m\u001b[0mself\u001b[0m\u001b[0;34m.\u001b[0m\u001b[0mshape\u001b[0m\u001b[0;34m)\u001b[0m\u001b[0;34m\u001b[0m\u001b[0m\n\u001b[1;32m    666\u001b[0m \u001b[0;34m\u001b[0m\u001b[0m\n",
      "\u001b[0;32m~/anaconda3/lib/python3.6/site-packages/pandas/core/dtypes/cast.py\u001b[0m in \u001b[0;36mastype_nansafe\u001b[0;34m(arr, dtype, copy)\u001b[0m\n\u001b[1;32m    700\u001b[0m \u001b[0;34m\u001b[0m\u001b[0m\n\u001b[1;32m    701\u001b[0m         \u001b[0;32mif\u001b[0m \u001b[0;32mnot\u001b[0m \u001b[0mnp\u001b[0m\u001b[0;34m.\u001b[0m\u001b[0misfinite\u001b[0m\u001b[0;34m(\u001b[0m\u001b[0marr\u001b[0m\u001b[0;34m)\u001b[0m\u001b[0;34m.\u001b[0m\u001b[0mall\u001b[0m\u001b[0;34m(\u001b[0m\u001b[0;34m)\u001b[0m\u001b[0;34m:\u001b[0m\u001b[0;34m\u001b[0m\u001b[0m\n\u001b[0;32m--> 702\u001b[0;31m             raise ValueError('Cannot convert non-finite values (NA or inf) to '\n\u001b[0m\u001b[1;32m    703\u001b[0m                              'integer')\n\u001b[1;32m    704\u001b[0m \u001b[0;34m\u001b[0m\u001b[0m\n",
      "\u001b[0;31mValueError\u001b[0m: Cannot convert non-finite values (NA or inf) to integer"
     ]
    }
   ],
   "source": [
    "pid['Survived'] = pid['Survived'].astype(int)\n",
    "pid.to_csv('wynik-avg.csv', index = False)"
   ]
  }
 ],
 "metadata": {
  "kernelspec": {
   "display_name": "Python 3",
   "language": "python",
   "name": "python3"
  },
  "language_info": {
   "codemirror_mode": {
    "name": "ipython",
    "version": 3
   },
   "file_extension": ".py",
   "mimetype": "text/x-python",
   "name": "python",
   "nbconvert_exporter": "python",
   "pygments_lexer": "ipython3",
   "version": "3.6.5"
  }
 },
 "nbformat": 4,
 "nbformat_minor": 2
}
