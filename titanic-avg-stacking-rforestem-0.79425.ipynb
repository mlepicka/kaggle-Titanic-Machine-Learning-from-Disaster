{
 "cells": [
  {
   "cell_type": "code",
   "execution_count": 1,
   "metadata": {},
   "outputs": [
    {
     "name": "stderr",
     "output_type": "stream",
     "text": [
      "/home/fschmidt/anaconda3/lib/python3.6/site-packages/sklearn/cross_validation.py:41: DeprecationWarning: This module was deprecated in version 0.18 in favor of the model_selection module into which all the refactored classes and functions are moved. Also note that the interface of the new CV iterators are different from that of this module. This module will be removed in 0.20.\n",
      "  \"This module will be removed in 0.20.\", DeprecationWarning)\n",
      "/home/fschmidt/anaconda3/lib/python3.6/site-packages/sklearn/learning_curve.py:22: DeprecationWarning: This module was deprecated in version 0.18 in favor of the model_selection module into which all the functions are moved. This module will be removed in 0.20\n",
      "  DeprecationWarning)\n"
     ]
    }
   ],
   "source": [
    "import numpy as np\n",
    "import pandas as pd\n",
    "import matplotlib.pyplot as plt\n",
    "import lightgbm as lgb\n",
    "import xgboost as xgb\n",
    "# from xgboost import XGBClassifier\n",
    "from scipy.stats import norm\n",
    "from matplotlib.ticker import NullFormatter\n",
    "from sklearn import linear_model, svm\n",
    "from sklearn.learning_curve import validation_curve\n",
    "from sklearn.model_selection  import StratifiedKFold, GridSearchCV, train_test_split, RandomizedSearchCV\n",
    "from sklearn.preprocessing import Imputer, StandardScaler\n",
    "from sklearn.metrics import accuracy_score, precision_score, recall_score, roc_curve, auc, classification_report\n",
    "from sklearn.ensemble import RandomForestRegressor\n",
    "import re\n",
    "import random\n",
    "import warnings\n",
    "warnings.filterwarnings('ignore')\n",
    "from bayes_opt import BayesianOptimization"
   ]
  },
  {
   "cell_type": "code",
   "execution_count": 2,
   "metadata": {},
   "outputs": [],
   "source": [
    "#============================================================================\n",
    "\n",
    "df1 = pd.DataFrame(pd.read_csv('train.csv'))\n",
    "df2 = pd.DataFrame(pd.read_csv('test.csv'))\n",
    "\n",
    "# Define function to extract titles from passenger names\n",
    "def get_title(name):\n",
    "    title_search = re.search(' ([A-Za-z]+)\\.', name)\n",
    "    # If the title exists, extract and return it.\n",
    "    if title_search:\n",
    "        return title_search.group(1)\n",
    "    return \"\"\n",
    "\n",
    "df1['Sex'] = df1['Sex'].map({'female': 1, 'male': 0})\n",
    "df1['Embarked'] = df1['Embarked'].map({'Q': 1, 'C': 0, 'S': 2})\n",
    "imp = Imputer(missing_values = 'NaN', strategy = 'most_frequent', axis = 0)\n",
    "df1[\"Age\"] = imp.fit_transform(df1[[\"Age\"]]).ravel()\n",
    "df1['Embarked'] = imp.fit_transform(df1[['Embarked']]).ravel()\n",
    "df1.Embarked = df1.Embarked.astype(int)\n",
    "df1.Age = df1.Age.astype(int)\n",
    "df1['FamilySize'] = df1['SibSp'] + df1['Parch'] + 1\n",
    "df1 = df1.assign(FamilySize = pd.Series(df1['FamilySize']))\n",
    "df1['HasCabin'] = df1['Cabin'].apply(lambda x: 0 if type(x) == float else 1)\n",
    "df1['Name_length'] = df1['Name'].apply(len)\n",
    "\n",
    "#df1['IsAlone'] = 0\n",
    "#df1.loc[df1['FamilySize'] == 1, 'IsAlone'] = 1\n",
    "\n",
    "df1['Single'] = df1['FamilySize'].map(lambda s: 1 if s == 1 else 0)\n",
    "df1['SmallF'] = df1['FamilySize'].map(lambda s: 1 if  s == 2  else 0)\n",
    "df1['MedF'] = df1['FamilySize'].map(lambda s: 1 if 3 <= s <= 4 else 0)\n",
    "df1['LargeF'] = df1['FamilySize'].map(lambda s: 1 if s >= 5 else 0)\n",
    "\n",
    "df1['Title'] = df1['Name'].apply(get_title)\n",
    "df1['Title'] = df1['Title'].replace(['Lady', 'Countess','Capt', 'Col','Don', 'Dr', 'Major', 'Rev', 'Sir', 'Jonkheer', 'Dona'], 'Rare')\n",
    "df1['Title'] = df1['Title'].replace('Mlle', 'Miss')\n",
    "df1['Title'] = df1['Title'].replace('Ms', 'Miss')\n",
    "df1['Title'] = df1['Title'].replace('Mme', 'Mrs')\n",
    "title_mapping = {\"Mr\": 1, \"Miss\": 2, \"Mrs\": 3, \"Master\": 4, \"Rare\": 5}\n",
    "df1['Title'] = df1['Title'].map(title_mapping)\n",
    "df1['Title'] = df1['Title'].fillna(0)\n",
    "\n",
    "#df1[\"Cabin\"] = pd.Series([i[0] if not pd.isnull(i) else 'X' for i in df1['Cabin'] ]) #zmapowac na inty\n",
    "#df1['Cabin'] = df1['Cabin'].map({'A': 1, 'B': 1, 'C': 1, 'D': 1, 'E': 1, 'F': 1, 'G': 1, 'T': 1})\n",
    "df1 = df1.drop(columns = ['PassengerId', 'Cabin','Name', 'Ticket', 'Fare', 'Name_length', 'Age']) # dodano age\n",
    "    \n",
    "#============================================================================\n",
    "    \n",
    "df2['Sex'] = df2['Sex'].map({'female': 1, 'male': 0})\n",
    "df2['Embarked'] = df2['Embarked'].map({'Q': 1, 'C': 0, 'S': 2})\n",
    "imp = Imputer(missing_values = 'NaN', strategy = 'most_frequent', axis = 0)\n",
    "df2[\"Age\"] = imp.fit_transform(df2[[\"Age\"]]).ravel()\n",
    "df2['Embarked'] = imp.fit_transform(df2[['Embarked']]).ravel()\n",
    "df2.Embarked = df2.Embarked.astype(int)\n",
    "df2.Age = df2.Age.astype(int)\n",
    "df2['FamilySize'] = df2['SibSp'] + df2['Parch'] + 1\n",
    "df2 = df2.assign(FamilySize = pd.Series(df2['FamilySize']))    \n",
    "df2['HasCabin'] = df2['Cabin'].apply(lambda x: 0 if type(x) == float else 1)\n",
    "df2['Name_length'] = df2['Name'].apply(len)\n",
    "\n",
    "#df1['IsAlone'] = 0\n",
    "#df1.loc[df1['FamilySize'] == 1, 'IsAlone'] = 1\n",
    "\n",
    "df2['Single'] = df2['FamilySize'].map(lambda s: 1 if s == 1 else 0)\n",
    "df2['SmallF'] = df2['FamilySize'].map(lambda s: 1 if  s == 2  else 0)\n",
    "df2['MedF'] = df2['FamilySize'].map(lambda s: 1 if 3 <= s <= 4 else 0)\n",
    "df2['LargeF'] = df2['FamilySize'].map(lambda s: 1 if s >= 5 else 0)\n",
    "\n",
    "df2['Title'] = df2['Name'].apply(get_title)\n",
    "df2['Title'] = df2['Title'].replace(['Lady', 'Countess','Capt', 'Col','Don', 'Dr', 'Major', 'Rev', 'Sir', 'Jonkheer', 'Dona'], 'Rare')\n",
    "df2['Title'] = df2['Title'].replace('Mlle', 'Miss')\n",
    "df2['Title'] = df2['Title'].replace('Ms', 'Miss')\n",
    "df2['Title'] = df2['Title'].replace('Mme', 'Mrs')\n",
    "title_mapping = {\"Mr\": 1, \"Miss\": 2, \"Mrs\": 3, \"Master\": 4, \"Rare\": 5}\n",
    "df2['Title'] = df2['Title'].map(title_mapping)\n",
    "df2['Title'] = df2['Title'].fillna(0)\n",
    "\n",
    "#df2[\"Cabin\"] = pd.Series([i[0] if not pd.isnull(i) else 'X' for i in df2['Cabin'] ]) #zmapowac na inty\n",
    "#df2['Cabin'] = df2['Cabin'].map({'A': 1, 'B': 1, 'C': 1, 'D': 1, 'E': 1, 'F': 1, 'G': 1, 'T': 1})\n",
    "df2 = df2.drop(columns = ['Name', 'Cabin', 'Ticket', 'Fare', 'Name_length', 'Age']) # dodano age\n",
    "\n",
    "#print(df1)\n",
    "#print(df2)"
   ]
  },
  {
   "cell_type": "code",
   "execution_count": 3,
   "metadata": {},
   "outputs": [],
   "source": [
    "def perform_repeated_cv(X, y):\n",
    "    #set random seed for repeartability\n",
    "#     random.seed(1)\n",
    "\n",
    "    #set the number of repetitions\n",
    "    n_reps = 50\n",
    "\n",
    "    for u in range(n_reps):\n",
    "\n",
    "        #randomly shuffle the dataset\n",
    "#         indices = np.arange(X.shape[0])\n",
    "#         np.random.shuffle(indices)\n",
    "#         X = X.iloc[indices] \n",
    "#         y = y.iloc[indices] \n",
    "        # dataset has been randomly shuffled\n",
    "        \n",
    "        #initialize vector to keep predictions from all folds of the cross-validation\n",
    "        y_predict_lgb = np.zeros(y.shape)\n",
    "        y_predict_xgb = np.zeros(y.shape)\n",
    "        y_predict_reg = np.zeros(y.shape)\n",
    "\n",
    "        #perform 10-fold cross validation\n",
    "        skf = StratifiedKFold(n_splits = 5, random_state = 142)\n",
    "#         skf.get_n_splits(X, y)\n",
    "\n",
    "        for train, test in skf.split(X, y):\n",
    "            X_train, X_test = X.iloc[train], X.iloc[test]\n",
    "            y_train, y_test = y.iloc[train], y.iloc[test]\n",
    "\n",
    "#             standardization\n",
    "            sc = StandardScaler().fit(X_train)\n",
    "            X_train = sc.transform(X_train)\n",
    "            X_test = sc.transform(X_test)\n",
    "            \n",
    "        #============================================================================\n",
    "            \n",
    "            d_train = lgb.Dataset(X_train, label = y_train)\n",
    "\n",
    "            params = {'boosting_type': 'gbdt',\n",
    "                     'max_depth': -1,\n",
    "                     'objective': 'binary',\n",
    "                     'nthread': 3,\n",
    "                     'num_leaves': 6,\n",
    "                     'learning_rate': 0.1,\n",
    "                     'max_bin': 512,\n",
    "                     'subsample_for_bin': 200,\n",
    "                     'subsample': 1,\n",
    "                     'subsample_freq': 1,\n",
    "                     'colsample_bytree': 0.6,\n",
    "                     'reg_alpha': 0.5,\n",
    "                     'reg_lambda': 4,\n",
    "                     'min_split_gain': 0.5,\n",
    "                     'min_child_weight': 1,\n",
    "                     'min_child_samples': 5,\n",
    "                     'scale_pos_weight': 1,\n",
    "                     'num_class': 1,\n",
    "                     'metric': 'auc'}\n",
    "#             params['learning_rate'] = 0.0075\n",
    "#             params['boosting_type'] = 'gbdt'\n",
    "#             params['objective'] = 'binary'\n",
    "#             params['metric'] = 'auc'\n",
    "#             params['sub_feature'] = 0.5\n",
    "#             params['num_leaves'] = 100\n",
    "#             params['min_data'] = 50\n",
    "#             params['max_depth'] = 15\n",
    "#             params['max_bin'] = 150\n",
    "#             params['num_iterations'] = 50\n",
    "#             params['lambda_l2'] = 0.5\n",
    "            \n",
    "            modellgb = lgb.train(params, d_train, 100)\n",
    "            y_predict_lgb[test] = modellgb.predict(X_test) \n",
    "\n",
    "            # {'boosting_type': 'gbdt',\n",
    "            #  'max_depth': -1,\n",
    "            #  'objective': 'binary',\n",
    "            #  'nthread': 3,\n",
    "            #  'num_leaves': 6,\n",
    "            #  'learning_rate': 0.1,\n",
    "            #  'max_bin': 512,\n",
    "            #  'subsample_for_bin': 200,\n",
    "            #  'subsample': 1,\n",
    "            #  'subsample_freq': 1,\n",
    "            #  'colsample_bytree': 0.6,\n",
    "            #  'reg_alpha': 0.5,\n",
    "            #  'reg_lambda': 4,\n",
    "            #  'min_split_gain': 0.5,\n",
    "            #  'min_child_weight': 1,\n",
    "            #  'min_child_samples': 5,\n",
    "            #  'scale_pos_weight': 1,\n",
    "            #  'num_class': 1,\n",
    "            #  'metric': 'auc'}\n",
    "            \n",
    "        #============================================================================            \n",
    "            \n",
    "            xgtrain = xgb.DMatrix(X_train, y_train.values)\n",
    "            xgtest = xgb.DMatrix(X_test)\n",
    "\n",
    "            param = {'max_depth': 10, \n",
    "                     'min_child_weigth': 3, \n",
    "                     'eta': 0.02, \n",
    "                     'silent': 1,\n",
    "                     'eval_metric': 'auc',\n",
    "                     'seed': 1001,\n",
    "                     'colsample_bytree': 0.9,\n",
    "                     'subsample': 0.9,\n",
    "                     'gamma': 0.0964,\n",
    "                     'objective':'binary:logistic', \n",
    "                     'lambda': 2,\n",
    "                     'alpha': 0.03}\n",
    "            num_round = 150\n",
    "            modelxgb = xgb.train(param, xgtrain, num_round)\n",
    "            y_predict_xgb[test] = modelxgb.predict(xgtest)\n",
    "            \n",
    "# xgb            Best hyperparameters:\n",
    "# {'subsample': 0.8, 'min_child_weight': 15, 'max_depth': 5, 'gamma': 0.5, 'colsample_bytree': 0.8}\n",
    "\n",
    "\n",
    "        #============================================================================\n",
    "\n",
    "            lm = linear_model.LinearRegression()\n",
    "            modelreg = lm.fit(X_train, y_train)\n",
    "            y_predict_reg[test]  = modelreg.predict(X_test)\n",
    "            \n",
    "        #============================================================================\n",
    "        \n",
    "    for i in range(0, len(y_predict_lgb)):\n",
    "        y_predict_lgb[i] = (y_predict_lgb[i] - y_predict_lgb.min()) / (y_predict_lgb.max() - y_predict_lgb.min())\n",
    "    \n",
    "    for i in range(0, len(y_predict_reg)):\n",
    "        y_predict_reg[i] = (y_predict_reg[i] - y_predict_reg.min()) / (y_predict_reg.max() - y_predict_reg.min())\n",
    "    \n",
    "    for i in range(0, len(y_predict_xgb)):\n",
    "        y_predict_xgb[i] = (y_predict_xgb[i] - y_predict_xgb.min()) / (y_predict_xgb.max() - y_predict_xgb.min()) \n",
    "        \n",
    "    #============================================================================\n",
    "    \n",
    "    return y_predict_lgb, y_predict_xgb, y_predict_reg, modelreg, modelxgb, modellgb"
   ]
  },
  {
   "cell_type": "code",
   "execution_count": 4,
   "metadata": {
    "scrolled": false
   },
   "outputs": [],
   "source": [
    "#trenowanie\n",
    "\n",
    "X = df1.drop(columns = ['Survived'])\n",
    "y = df1['Survived']\n",
    "\n",
    "y_predict_lgb, y_predict_xgb, y_predict_reg, modelreg, modelxgb, modellgb = perform_repeated_cv(X, y)"
   ]
  },
  {
   "cell_type": "code",
   "execution_count": 5,
   "metadata": {},
   "outputs": [
    {
     "data": {
      "image/png": "[encoded data removed]",
      "text/plain": [
       "<Figure size 432x288 with 1 Axes>"
      ]
     },
     "metadata": {},
     "output_type": "display_data"
    }
   ],
   "source": [
    "#============================================================================\n",
    "# XGB\n",
    "\n",
    "actual = y #df1['Survived']\n",
    "predictions = y_predict_xgb #df2t\n",
    "\n",
    "#print(actual)\n",
    "#print(predictions)\n",
    "\n",
    "false_positive_rate, true_positive_rate, thresholds = roc_curve(actual, predictions)\n",
    "roc_auc = auc(false_positive_rate, true_positive_rate)\n",
    "\n",
    "plt.title('Receiver Operating Characteristic')\n",
    "plt.plot(false_positive_rate, true_positive_rate, 'b', label = 'AUC = %0.2f'% roc_auc)\n",
    "plt.legend(loc = 'lower right')\n",
    "plt.plot([0,1],[0,1],'r--')\n",
    "plt.xlim([-0.1,1.2])\n",
    "plt.ylim([-0.1,1.2])\n",
    "plt.ylabel('True Positive Rate')\n",
    "plt.xlabel('False Positive Rate')\n",
    "plt.show()"
   ]
  },
  {
   "cell_type": "code",
   "execution_count": 6,
   "metadata": {},
   "outputs": [
    {
     "data": {
      "image/png": "[encoded data removed]",
      "text/plain": [
       "<Figure size 432x288 with 1 Axes>"
      ]
     },
     "metadata": {},
     "output_type": "display_data"
    }
   ],
   "source": [
    "#============================================================================\n",
    "# LGBM\n",
    "\n",
    "actual = y #df1['Survived']\n",
    "predictions = y_predict_lgb #df2t\n",
    "\n",
    "#print(actual)\n",
    "#print(predictions)\n",
    "\n",
    "false_positive_rate, true_positive_rate, thresholds = roc_curve(actual, predictions)\n",
    "roc_auc = auc(false_positive_rate, true_positive_rate)\n",
    "\n",
    "plt.title('Receiver Operating Characteristic')\n",
    "plt.plot(false_positive_rate, true_positive_rate, 'b', label = 'AUC = %0.2f'% roc_auc)\n",
    "plt.legend(loc = 'lower right')\n",
    "plt.plot([0,1],[0,1],'r--')\n",
    "plt.xlim([-0.1,1.2])\n",
    "plt.ylim([-0.1,1.2])\n",
    "plt.ylabel('True Positive Rate')\n",
    "plt.xlabel('False Positive Rate')\n",
    "plt.show()"
   ]
  },
  {
   "cell_type": "code",
   "execution_count": 7,
   "metadata": {},
   "outputs": [
    {
     "data": {
      "image/png": "[encoded data removed]",
      "text/plain": [
       "<Figure size 432x288 with 1 Axes>"
      ]
     },
     "metadata": {},
     "output_type": "display_data"
    }
   ],
   "source": [
    "#============================================================================\n",
    "# REG\n",
    "\n",
    "actual = y #df1['Survived']\n",
    "predictions = y_predict_reg #df2t\n",
    "\n",
    "#print(actual)\n",
    "#print(predictions)\n",
    "\n",
    "false_positive_rate, true_positive_rate, thresholds = roc_curve(actual, predictions)\n",
    "roc_auc = auc(false_positive_rate, true_positive_rate)\n",
    "\n",
    "plt.title('Receiver Operating Characteristic')\n",
    "plt.plot(false_positive_rate, true_positive_rate, 'b', label = 'AUC = %0.2f'% roc_auc)\n",
    "plt.legend(loc = 'lower right')\n",
    "plt.plot([0,1],[0,1],'r--')\n",
    "plt.xlim([-0.1,1.2])\n",
    "plt.ylim([-0.1,1.2])\n",
    "plt.ylabel('True Positive Rate')\n",
    "plt.xlabel('False Positive Rate')\n",
    "plt.show()"
   ]
  },
  {
   "cell_type": "code",
   "execution_count": 8,
   "metadata": {},
   "outputs": [],
   "source": [
    "# testowanie\n",
    "Xt = df2.drop(columns = ['PassengerId'])\n",
    "yt = df2['PassengerId']\n",
    "\n",
    "sc = StandardScaler()\n",
    "Xt_test = sc.fit_transform(Xt) # moze tu byc gdzies blad\n",
    "xgt_test = xgb.DMatrix(Xt_test)\n",
    "\n",
    "yt_predict_reg = modelreg.predict(Xt_test) # reg\n",
    "\n",
    "yt_predict_xgb = modelxgb.predict(xgt_test) # xgb - musi dostac wartosci jako xgbmatrix\n",
    "\n",
    "yt_predict_lgb = modellgb.predict(Xt_test) #lgbm \n",
    "\n",
    "for i in range(0, len(yt_predict_lgb)):\n",
    "    yt_predict_lgb[i] = (yt_predict_lgb[i] - yt_predict_lgb.min()) / (yt_predict_lgb.max() - yt_predict_lgb.min())\n",
    "    \n",
    "for i in range(0, len(yt_predict_reg)):\n",
    "    yt_predict_reg[i] = (yt_predict_reg[i] - yt_predict_reg.min()) / (yt_predict_reg.max() - yt_predict_reg.min())\n",
    "    \n",
    "for i in range(0, len(yt_predict_xgb)):\n",
    "    yt_predict_xgb[i] = (yt_predict_xgb[i] - yt_predict_xgb.min()) / (yt_predict_xgb.max() - yt_predict_xgb.min())"
   ]
  },
  {
   "cell_type": "code",
   "execution_count": 9,
   "metadata": {
    "scrolled": true
   },
   "outputs": [],
   "source": [
    "# ok 1 przedstawic dane w DF jak powyzej\n",
    "# ok 2 stworzyc modele i je wytrenowac\n",
    "# ok 3 znormalizowac zeby moc je wykorzystac\n",
    "# chyba ok 4 predykcje testowe zostaja wykorzystane jako nowe featury do train setu \n",
    "    # musi byc jakis for ktory by iterowal po splitach\n",
    "# chyba ok 5 OOF: set zostaje dzielony na foldy - w tym miejscu chyba zostaja wprowadzane wartosci modeli jako nowe featury\n",
    "    # jak powyzej\n",
    "# ok 6 supermodel (random forest) na podstawie nowego train setu sie uczy\n",
    "# ok 7 supermodel jest w stanie ocenic test set i podac wynik\n",
    "\n",
    "# sprobowanie z regresja i bez niej\n",
    "# dodanie M_features do test setu\n",
    "# appendowanie wartosci - len(y_predict_lgbm) = 177 przez splitowanie - pdpbnie 1/5 jest oceniana"
   ]
  },
  {
   "cell_type": "code",
   "execution_count": 10,
   "metadata": {},
   "outputs": [],
   "source": [
    "M_features = pd.DataFrame({'M_lgbm': y_predict_lgb, 'M_xgb': y_predict_xgb, 'M_reg': y_predict_reg})\n",
    "# print(M_features)\n",
    "\n",
    "Mt_features = pd.DataFrame({'Mt_lgbm': yt_predict_lgb, 'Mt_xgb': yt_predict_xgb, 'Mt_reg': yt_predict_reg})\n",
    "# print(Mt_features)\n",
    "\n",
    "# reg trzeba sie pozbyc bo psuje - do porownania\n",
    "# do test setu tez trzeba dodac Mt_features"
   ]
  },
  {
   "cell_type": "code",
   "execution_count": 11,
   "metadata": {
    "scrolled": false
   },
   "outputs": [],
   "source": [
    "# df3 = pd.DataFrame() # training set dla rf\n",
    "# df4 = pd.DataFrame() # test set dla rf \n",
    "\n",
    "# df3 = df3.assign(Survived = pd.Series(df1['Survived']), M_lgbm = pd.Series(M_features['M_lgbm']), M_xgb = pd.Series(M_features['M_xgb']))\n",
    "\n",
    "# df4 = df4.assign(PassengerId = pd.Series(df2['PassengerId']), M_lgbm = pd.Series(Mt_features['Mt_lgbm']), Mt_xgb = pd.Series(Mt_features['Mt_xgb']))\n",
    "\n",
    "df1 = df1.assign(M_lgbm = pd.Series(M_features['M_lgbm']), M_xgb = pd.Series(M_features['M_xgb']), M_reg = pd.Series(M_features['M_reg']))\n",
    "df2 = df2.assign(Mt_lgbm = pd.Series(Mt_features['Mt_lgbm']), Mt_xgb = pd.Series(Mt_features['Mt_xgb']), Mt_reg = pd.Series(Mt_features['Mt_reg']))"
   ]
  },
  {
   "cell_type": "code",
   "execution_count": 12,
   "metadata": {},
   "outputs": [],
   "source": [
    "def perform_repeated_cv_with_M_features(X, y):\n",
    "    #set random seed for repeartability\n",
    "#     random.seed(1)\n",
    "\n",
    "    #set the number of repetitions\n",
    "    n_reps = 50\n",
    "\n",
    "    for u in range(n_reps):\n",
    "\n",
    "        #randomly shuffle the dataset\n",
    "#         indices = np.arange(X.shape[0])\n",
    "#         np.random.shuffle(indices)\n",
    "#         X = X.iloc[indices] \n",
    "#         y = y.iloc[indices] \n",
    "        # dataset has been randomly shuffled\n",
    "\n",
    "        #initialize vector to keep predictions from all folds of the cross-validation\n",
    "        y_predict_rf = np.zeros(y.shape)\n",
    "\n",
    "        #perform 10-fold cross validation\n",
    "        skf = StratifiedKFold(n_splits = 5, random_state = 142)\n",
    "        skf.get_n_splits(X, y)\n",
    "\n",
    "        for train, test in skf.split(X, y):\n",
    "            X_train, X_test = X.iloc[train], X.iloc[test]\n",
    "            y_train, y_test = y.iloc[train], y.iloc[test]\n",
    "\n",
    "            #standardization\n",
    "            sc = StandardScaler().fit(X_train)\n",
    "            X_train = sc.transform(X_train)\n",
    "            X_test = sc.transform(X_test)\n",
    "            \n",
    "        #============================================================================\n",
    "        \n",
    "            rf = RandomForestRegressor(n_estimators = 147, \n",
    "                           max_features = 0.1171,\n",
    "                           max_depth = 9, \n",
    "                           min_samples_split = 12,\n",
    "                           min_samples_leaf = 8,\n",
    "                           bootstrap = True,\n",
    "                           max_leaf_nodes = 25,\n",
    "                           min_weight_fraction_leaf = 0.2,\n",
    "                           random_state = 250) \n",
    "            \n",
    "#            {'n_estimators': 400,\n",
    "#  'min_samples_split': 10,\n",
    "#  'min_samples_leaf': 4,\n",
    "#  'max_features': 'sqrt',\n",
    "#  'max_depth': 90,\n",
    "#  'bootstrap': True}\n",
    "\n",
    "            modelrf = rf.fit(X_train, y_train)\n",
    "            y_predict_rf[test] = modelrf.predict(X_test)\n",
    "            \n",
    "        #============================================================================\n",
    "        \n",
    "#     for i in range(0, len(y_predict_rf)):\n",
    "#         y_predict_rf[i] = (y_predict_rf[i] - y_predict_rf.min()) / (y_predict_rf.max() - y_predict_rf.min())\n",
    "        \n",
    "    return y_predict_rf, modelrf"
   ]
  },
  {
   "cell_type": "code",
   "execution_count": 13,
   "metadata": {
    "scrolled": true
   },
   "outputs": [],
   "source": [
    "#     n_estimators = number of trees in the foreset\n",
    "#     max_features = max number of features considered for splitting a node\n",
    "#     max_depth = max number of levels in each decision tree\n",
    "#     min_samples_split = min number of data points placed in a node before the node is split\n",
    "#     min_samples_leaf = min number of data points allowed in a leaf node\n",
    "#     bootstrap = method for sampling data points (with or without replacement)\n",
    "\n",
    "# print(df1,df2)\n",
    "\n",
    "# Xrf = df3.drop(columns = ['Survived'])\n",
    "# yrf = df3['Survived']\n",
    "\n",
    "Xrf = df1.drop(columns = ['Survived'])\n",
    "yrf = df1['Survived']\n",
    "\n",
    "y_predict_rf, modelrf = perform_repeated_cv_with_M_features(Xrf, yrf)\n",
    "\n",
    "#============================================================================    \n",
    "\n",
    "# plt.scatter(y_predict_rf, y_predict_rf)"
   ]
  },
  {
   "cell_type": "code",
   "execution_count": 14,
   "metadata": {},
   "outputs": [
    {
     "data": {
      "image/png": "[encoded data removed]",
      "text/plain": [
       "<Figure size 432x288 with 1 Axes>"
      ]
     },
     "metadata": {},
     "output_type": "display_data"
    }
   ],
   "source": [
    "actual = yrf #df1['Survived']\n",
    "predictions = y_predict_rf #df2t\n",
    "\n",
    "#print(actual)\n",
    "#print(predictions)\n",
    "\n",
    "false_positive_rate, true_positive_rate, thresholds = roc_curve(actual, predictions)\n",
    "roc_auc = auc(false_positive_rate, true_positive_rate)\n",
    "\n",
    "plt.title('Receiver Operating Characteristic')\n",
    "plt.plot(false_positive_rate, true_positive_rate, 'b', label = 'AUC = %0.2f'% roc_auc)\n",
    "plt.legend(loc = 'lower right')\n",
    "plt.plot([0,1],[0,1],'r--')\n",
    "plt.xlim([-0.1,1.2])\n",
    "plt.ylim([-0.1,1.2])\n",
    "plt.ylabel('True Positive Rate')\n",
    "plt.xlabel('False Positive Rate')\n",
    "plt.show()"
   ]
  },
  {
   "cell_type": "code",
   "execution_count": 15,
   "metadata": {
    "scrolled": true
   },
   "outputs": [
    {
     "data": {
      "text/plain": [
       "0.249857    44\n",
       "0.242197    41\n",
       "0.245115    41\n",
       "0.240694    37\n",
       "0.243123    35\n",
       "0.269195    14\n",
       "0.256480    14\n",
       "0.267546    11\n",
       "0.349664     9\n",
       "0.325005     9\n",
       "0.258709     9\n",
       "0.260671     8\n",
       "0.308688     8\n",
       "0.268256     8\n",
       "0.514265     8\n",
       "0.262860     7\n",
       "0.387338     7\n",
       "0.265187     7\n",
       "0.257285     6\n",
       "0.262822     6\n",
       "0.531574     6\n",
       "0.600657     6\n",
       "0.253536     6\n",
       "0.279627     6\n",
       "0.261337     6\n",
       "0.574774     5\n",
       "0.263902     5\n",
       "0.558920     5\n",
       "0.536827     5\n",
       "0.433451     5\n",
       "            ..\n",
       "0.558805     1\n",
       "0.351594     1\n",
       "0.580992     1\n",
       "0.425196     1\n",
       "0.344160     1\n",
       "0.539494     1\n",
       "0.377650     1\n",
       "0.490423     1\n",
       "0.575673     1\n",
       "0.478162     1\n",
       "0.605236     1\n",
       "0.370977     1\n",
       "0.516768     1\n",
       "0.281700     1\n",
       "0.291013     1\n",
       "0.565059     1\n",
       "0.560869     1\n",
       "0.317690     1\n",
       "0.331545     1\n",
       "0.327720     1\n",
       "0.343068     1\n",
       "0.572494     1\n",
       "0.322925     1\n",
       "0.276552     1\n",
       "0.316143     1\n",
       "0.317111     1\n",
       "0.596651     1\n",
       "0.595728     1\n",
       "0.333410     1\n",
       "0.580563     1\n",
       "Name: 0, Length: 349, dtype: int64"
      ]
     },
     "execution_count": 15,
     "metadata": {},
     "output_type": "execute_result"
    }
   ],
   "source": [
    "dfkupa = pd.DataFrame(y_predict_rf)\n",
    "\n",
    "dfkupa[0].value_counts()"
   ]
  },
  {
   "cell_type": "code",
   "execution_count": 16,
   "metadata": {},
   "outputs": [
    {
     "name": "stdout",
     "output_type": "stream",
     "text": [
      "0.8282828282828283\n"
     ]
    }
   ],
   "source": [
    "dfkupa = pd.DataFrame(y_predict_rf)\n",
    "\n",
    "for i in range(len(dfkupa[0])):\n",
    "    \n",
    "    if(dfkupa[0][i] >= 0.435):\n",
    "        dfkupa[0][i] = 1\n",
    "    if(dfkupa[0][i] <= 0.435):\n",
    "        dfkupa[0][i] = 0\n",
    "print(accuracy_score(yrf, dfkupa[0]))"
   ]
  },
  {
   "cell_type": "code",
   "execution_count": 17,
   "metadata": {
    "scrolled": true
   },
   "outputs": [],
   "source": [
    "# Xtrf = df4.drop(columns = ['PassengerId']) \n",
    "# ytrf = df4['PassengerId']\n",
    "\n",
    "Xtrf = df2.drop(columns = ['PassengerId']) \n",
    "ytrf = df2['PassengerId']\n",
    "\n",
    "ytrf = ytrf.reset_index(drop=True)\n",
    "ytrf = pd.DataFrame(np.array(ytrf).reshape(len(ytrf)), columns = ['PassengerId'])\n",
    "\n",
    "Xtrf = pd.DataFrame(Xtrf)\n",
    "yt_predict_rf = modelrf.predict(Xtrf)\n",
    "\n",
    "# for i in range(0, len(yt_predict_rf)):\n",
    "#     yt_predict_rf[i] = (yt_predict_rf[i] - yt_predict_rf.min()) / (yt_predict_rf.max() - yt_predict_rf.min())"
   ]
  },
  {
   "cell_type": "code",
   "execution_count": 18,
   "metadata": {
    "scrolled": true
   },
   "outputs": [
    {
     "data": {
      "text/plain": [
       "0.336799    138\n",
       "0.553739     25\n",
       "0.345516     20\n",
       "0.405423     19\n",
       "0.506807     19\n",
       "0.461694     18\n",
       "0.545976     16\n",
       "0.554151     14\n",
       "0.341223     14\n",
       "0.546387     11\n",
       "0.337330     10\n",
       "0.515857      7\n",
       "0.446776      6\n",
       "0.532693      5\n",
       "0.428662      5\n",
       "0.357975      4\n",
       "0.502575      4\n",
       "0.345523      4\n",
       "0.468909      4\n",
       "0.392738      3\n",
       "0.528439      3\n",
       "0.410130      3\n",
       "0.353279      3\n",
       "0.383220      2\n",
       "0.418436      2\n",
       "0.358375      2\n",
       "0.519540      2\n",
       "0.537337      2\n",
       "0.511365      2\n",
       "0.349658      2\n",
       "           ... \n",
       "0.419292      2\n",
       "0.405741      1\n",
       "0.441058      1\n",
       "0.464600      1\n",
       "0.500687      1\n",
       "0.409835      1\n",
       "0.435998      1\n",
       "0.467806      1\n",
       "0.492864      1\n",
       "0.353551      1\n",
       "0.545100      1\n",
       "0.507219      1\n",
       "0.451057      1\n",
       "0.349825      1\n",
       "0.387983      1\n",
       "0.420060      1\n",
       "0.366577      1\n",
       "0.453455      1\n",
       "0.549246      1\n",
       "0.423536      1\n",
       "0.466468      1\n",
       "0.542133      1\n",
       "0.423954      1\n",
       "0.532671      1\n",
       "0.396585      1\n",
       "0.515224      1\n",
       "0.483632      1\n",
       "0.484101      1\n",
       "0.505321      1\n",
       "0.493563      1\n",
       "Name: SurvivalPred, Length: 69, dtype: int64"
      ]
     },
     "execution_count": 18,
     "metadata": {},
     "output_type": "execute_result"
    }
   ],
   "source": [
    "# wyznaczyc przedzialy dla rf - moga ulec zmianie jesli bede zmienial parametry zwiazane z rf\n",
    "df_pred_rf = pd.DataFrame({'SurvivalPred': yt_predict_rf})\n",
    "\n",
    "# print(df_pred_rf)\n",
    "\n",
    "df_pred_rf['SurvivalPred'].value_counts()"
   ]
  },
  {
   "cell_type": "code",
   "execution_count": 19,
   "metadata": {},
   "outputs": [
    {
     "data": {
      "text/plain": [
       "<matplotlib.collections.PathCollection at 0x7f0a042405f8>"
      ]
     },
     "execution_count": 19,
     "metadata": {},
     "output_type": "execute_result"
    },
    {
     "data": {
      "image/png": "[encoded data removed]",
      "text/plain": [
       "<Figure size 432x288 with 1 Axes>"
      ]
     },
     "metadata": {},
     "output_type": "display_data"
    }
   ],
   "source": [
    "plt.scatter(df_pred_rf, df_pred_rf)"
   ]
  },
  {
   "cell_type": "code",
   "execution_count": 20,
   "metadata": {
    "scrolled": true
   },
   "outputs": [],
   "source": [
    "ytrf = ytrf.assign(Survived = pd.Series())\n",
    "# print(yt)\n",
    "\n",
    "for i in range(0, 418): # 0.55 daje 0.78947 na kaggle\n",
    "    \n",
    "    if(df_pred_rf['SurvivalPred'][i] > 0.46):\n",
    "        ytrf['Survived'][i] = 1\n",
    "    if(df_pred_rf['SurvivalPred'][i] <= 0.46):\n",
    "        ytrf['Survived'][i] = 0\n",
    "\n",
    "# print(yt)"
   ]
  },
  {
   "cell_type": "code",
   "execution_count": 21,
   "metadata": {
    "scrolled": true
   },
   "outputs": [
    {
     "name": "stdout",
     "output_type": "stream",
     "text": [
      "[AVG-rf] Umarło:  62.91866028708134 % pasażerów.\n"
     ]
    }
   ],
   "source": [
    "umarloavgrf = (1 - sum(ytrf['Survived']) / 418) * 100\n",
    "\n",
    "print('[AVG-rf] Umarło: ', umarloavgrf, '% pasażerów.')"
   ]
  },
  {
   "cell_type": "code",
   "execution_count": 22,
   "metadata": {},
   "outputs": [],
   "source": [
    "ytrf['Survived'] = ytrf['Survived'].astype(int)\n",
    "ytrf.to_csv('wynik-avg-stack-rf-079425.csv', index = False)"
   ]
  }
 ],
 "metadata": {
  "kernelspec": {
   "display_name": "Python 3",
   "language": "python",
   "name": "python3"
  },
  "language_info": {
   "codemirror_mode": {
    "name": "ipython",
    "version": 3
   },
   "file_extension": ".py",
   "mimetype": "text/x-python",
   "name": "python",
   "nbconvert_exporter": "python",
   "pygments_lexer": "ipython3",
   "version": "3.6.5"
  }
 },
 "nbformat": 4,
 "nbformat_minor": 2
}
