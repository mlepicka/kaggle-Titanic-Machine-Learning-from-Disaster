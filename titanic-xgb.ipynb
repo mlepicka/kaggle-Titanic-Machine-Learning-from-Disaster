{
 "cells": [
  {
   "cell_type": "code",
   "execution_count": 1,
   "metadata": {},
   "outputs": [],
   "source": [
    "import numpy as np\n",
    "import pandas as pd\n",
    "import matplotlib.pyplot as plt\n",
    "import xgboost as xgb\n",
    "import re\n",
    "\n",
    "from sklearn.model_selection  import train_test_split, KFold, StratifiedKFold\n",
    "from sklearn.preprocessing import Imputer, StandardScaler\n",
    "from sklearn.metrics import accuracy_score, roc_curve, auc"
   ]
  },
  {
   "cell_type": "code",
   "execution_count": 2,
   "metadata": {},
   "outputs": [],
   "source": [
    "df1 = pd.DataFrame(pd.read_csv('train.csv'))\n",
    "df2 = pd.DataFrame(pd.read_csv('test.csv'))\n",
    "\n",
    "# Define function to extract titles from passenger names\n",
    "def get_title(name):\n",
    "    title_search = re.search(' ([A-Za-z]+)\\.', name)\n",
    "    # If the title exists, extract and return it.\n",
    "    if title_search:\n",
    "        return title_search.group(1)\n",
    "    return \"\"\n",
    "\n",
    "df1['Sex'] = df1['Sex'].map({'female': 1, 'male': 0})\n",
    "df1['Embarked'] = df1['Embarked'].map({'Q': 1, 'C': 0, 'S': 2})\n",
    "imp = Imputer(missing_values = 'NaN', strategy = 'most_frequent', axis = 0)\n",
    "df1[\"Age\"] = imp.fit_transform(df1[[\"Age\"]]).ravel()\n",
    "df1['Embarked'] = imp.fit_transform(df1[['Embarked']]).ravel()\n",
    "df1.Embarked = df1.Embarked.astype(int)\n",
    "df1.Age = df1.Age.astype(int)\n",
    "df1['FamilySize'] = df1['SibSp'] + df1['Parch'] + 1\n",
    "df1 = df1.assign(FamilySize = pd.Series(df1['FamilySize']))\n",
    "df1['HasCabin'] = df1['Cabin'].apply(lambda x: 0 if type(x) == float else 1)\n",
    "df1['Name_length'] = df1['Name'].apply(len)\n",
    "\n",
    "#df1['IsAlone'] = 0\n",
    "#df1.loc[df1['FamilySize'] == 1, 'IsAlone'] = 1\n",
    "\n",
    "df1['Single'] = df1['FamilySize'].map(lambda s: 1 if s == 1 else 0)\n",
    "df1['SmallF'] = df1['FamilySize'].map(lambda s: 1 if  s == 2  else 0)\n",
    "df1['MedF'] = df1['FamilySize'].map(lambda s: 1 if 3 <= s <= 4 else 0)\n",
    "df1['LargeF'] = df1['FamilySize'].map(lambda s: 1 if s >= 5 else 0)\n",
    "\n",
    "df1['Title'] = df1['Name'].apply(get_title)\n",
    "df1['Title'] = df1['Title'].replace(['Lady', 'Countess','Capt', 'Col','Don', 'Dr', 'Major', 'Rev', 'Sir', 'Jonkheer', 'Dona'], 'Rare')\n",
    "df1['Title'] = df1['Title'].replace('Mlle', 'Miss')\n",
    "df1['Title'] = df1['Title'].replace('Ms', 'Miss')\n",
    "df1['Title'] = df1['Title'].replace('Mme', 'Mrs')\n",
    "title_mapping = {\"Mr\": 1, \"Miss\": 2, \"Mrs\": 3, \"Master\": 4, \"Rare\": 5}\n",
    "df1['Title'] = df1['Title'].map(title_mapping)\n",
    "df1['Title'] = df1['Title'].fillna(0)\n",
    "\n",
    "#df1[\"Cabin\"] = pd.Series([i[0] if not pd.isnull(i) else 'X' for i in df1['Cabin'] ]) #zmapowac na inty\n",
    "#df1['Cabin'] = df1['Cabin'].map({'A': 1, 'B': 1, 'C': 1, 'D': 1, 'E': 1, 'F': 1, 'G': 1, 'T': 1})\n",
    "df1 = df1.drop(columns = ['PassengerId', 'Cabin','Name', 'Ticket', 'Fare', 'Name_length'])\n",
    "    \n",
    "#============================================================================\n",
    "    \n",
    "df2['Sex'] = df2['Sex'].map({'female': 1, 'male': 0})\n",
    "df2['Embarked'] = df2['Embarked'].map({'Q': 1, 'C': 0, 'S': 2})\n",
    "imp = Imputer(missing_values = 'NaN', strategy = 'most_frequent', axis = 0)\n",
    "df2[\"Age\"] = imp.fit_transform(df2[[\"Age\"]]).ravel()\n",
    "df2['Embarked'] = imp.fit_transform(df2[['Embarked']]).ravel()\n",
    "df2.Embarked = df2.Embarked.astype(int)\n",
    "df2.Age = df2.Age.astype(int)\n",
    "df2['FamilySize'] = df2['SibSp'] + df2['Parch'] + 1\n",
    "df2 = df2.assign(FamilySize = pd.Series(df2['FamilySize']))    \n",
    "df2['HasCabin'] = df2['Cabin'].apply(lambda x: 0 if type(x) == float else 1)\n",
    "df2['Name_length'] = df2['Name'].apply(len)\n",
    "\n",
    "#df1['IsAlone'] = 0\n",
    "#df1.loc[df1['FamilySize'] == 1, 'IsAlone'] = 1\n",
    "\n",
    "df2['Single'] = df2['FamilySize'].map(lambda s: 1 if s == 1 else 0)\n",
    "df2['SmallF'] = df2['FamilySize'].map(lambda s: 1 if  s == 2  else 0)\n",
    "df2['MedF'] = df2['FamilySize'].map(lambda s: 1 if 3 <= s <= 4 else 0)\n",
    "df2['LargeF'] = df2['FamilySize'].map(lambda s: 1 if s >= 5 else 0)\n",
    "\n",
    "df2['Title'] = df2['Name'].apply(get_title)\n",
    "df2['Title'] = df2['Title'].replace(['Lady', 'Countess','Capt', 'Col','Don', 'Dr', 'Major', 'Rev', 'Sir', 'Jonkheer', 'Dona'], 'Rare')\n",
    "df2['Title'] = df2['Title'].replace('Mlle', 'Miss')\n",
    "df2['Title'] = df2['Title'].replace('Ms', 'Miss')\n",
    "df2['Title'] = df2['Title'].replace('Mme', 'Mrs')\n",
    "title_mapping = {\"Mr\": 1, \"Miss\": 2, \"Mrs\": 3, \"Master\": 4, \"Rare\": 5}\n",
    "df2['Title'] = df2['Title'].map(title_mapping)\n",
    "df2['Title'] = df2['Title'].fillna(0)\n",
    "\n",
    "#df2[\"Cabin\"] = pd.Series([i[0] if not pd.isnull(i) else 'X' for i in df2['Cabin'] ]) #zmapowac na inty\n",
    "#df2['Cabin'] = df2['Cabin'].map({'A': 1, 'B': 1, 'C': 1, 'D': 1, 'E': 1, 'F': 1, 'G': 1, 'T': 1})\n",
    "df2 = df2.drop(columns = ['Name', 'Cabin', 'Ticket', 'Fare', 'Name_length'])\n",
    "\n",
    "# print(df1)\n",
    "# print(df2)"
   ]
  },
  {
   "cell_type": "code",
   "execution_count": 3,
   "metadata": {},
   "outputs": [],
   "source": [
    "X = df1.drop(columns = ['Survived'])\n",
    "y = df1['Survived']\n",
    "\n",
    "skf = StratifiedKFold(n_splits = 4) #pobawic sie z iloscia splitow\n",
    "skf.get_n_splits(X, y)\n",
    "\n",
    "for train_index, test_index in skf.split(X, y):\n",
    "    X_train, X_test = X.iloc[train_index], X.iloc[test_index]\n",
    "    y_train, y_test = y.iloc[train_index], y.iloc[test_index]\n",
    "\n",
    "sc = StandardScaler()\n",
    "X_train = sc.fit_transform(X_train)\n",
    "X_test = sc.transform(X_test)\n",
    "\n",
    "X_train = pd.DataFrame(X_train)\n",
    "X_test = pd.DataFrame(X_test)\n",
    "\n",
    "# print(X_train)\n",
    "# print(X_test)"
   ]
  },
  {
   "cell_type": "code",
   "execution_count": 4,
   "metadata": {},
   "outputs": [],
   "source": [
    "xgtrain = xgb.DMatrix(X_train.values, y_train.values)\n",
    "xgtest = xgb.DMatrix(X_test.values)\n",
    "\n",
    "param = {'max_depth': 3, 'eta': 1, 'silent': 1, 'objective':'binary:logistic', 'lambda': 5}\n",
    "num_round = 25\n",
    "bst = xgb.train(param, xgtrain, num_round)\n",
    "y_predict = bst.predict(xgtest)\n",
    "\n",
    "# for i in range(222):\n",
    "#     if y_predict[i] >= 0.4:\n",
    "#         y_predict[i] = 1\n",
    "#     else:  \n",
    "#         y_predict[i] = 0\n",
    "\n",
    "# accuracy = accuracy_score(y_test, y_predict) \n",
    "# print(accuracy)"
   ]
  },
  {
   "cell_type": "code",
   "execution_count": 5,
   "metadata": {},
   "outputs": [
    {
     "name": "stdout",
     "output_type": "stream",
     "text": [
      "0.01669927\n",
      "0.9933809\n"
     ]
    }
   ],
   "source": [
    "#df2 = sc.transform(df2)\n",
    "#y2_pred = clf.predict(df2)\n",
    "#print(df2)\n",
    "\n",
    "Xt = df2.drop(columns = ['PassengerId'])\n",
    "yt = df2['PassengerId']\n",
    "\n",
    "yt = yt.reset_index(drop=True)\n",
    "yt = pd.DataFrame(np.array(yt).reshape(len(yt)), columns = ['PassengerId'])\n",
    "#print(yt)\n",
    "\n",
    "ytt = yt\n",
    "\n",
    "Xt = sc.transform(Xt)\n",
    "Xt = pd.DataFrame(Xt)\n",
    "Xt = xgb.DMatrix(Xt.values)\n",
    "#print(Xt)\n",
    "\n",
    "yt2_predict = bst.predict(Xt)\n",
    "\n",
    "xgb_pdict = pd.DataFrame({'xgb': yt2_predict})\n",
    "xgb_pdict.to_csv('pdb-xgb.csv', index = False)\n",
    "#print(yt2_predict)\n",
    "\n",
    "# for i in range(418):\n",
    "#     if yt2_predict[i] >= 0.4:\n",
    "#        yt2_predict[i] = 1\n",
    "#     else:  \n",
    "#        yt2_predict[i] = 0\n",
    "\n",
    "#print(yt2_predict)\n",
    "print(min(yt2_predict))\n",
    "print(max(yt2_predict))   \n",
    "    \n",
    "df2t = pd.DataFrame(yt2_predict, columns = ['Survived'])\n",
    "#print(df2t)\n",
    "\n",
    "yt['Survived'] = df2t['Survived']\n",
    "# yt.Survived = yt.Survived.astype(int)\n",
    "# print(yt)\n",
    "\n",
    "yt.to_csv('wynik-xgb.csv', index = False)"
   ]
  },
  {
   "cell_type": "code",
   "execution_count": 6,
   "metadata": {
    "scrolled": true
   },
   "outputs": [
    {
     "data": {
      "text/plain": [
       "0.073306    26\n",
       "0.090624    12\n",
       "0.670351    10\n",
       "0.101587     7\n",
       "0.224899     7\n",
       "0.087421     6\n",
       "0.081798     5\n",
       "0.552612     5\n",
       "0.343497     5\n",
       "0.090778     4\n",
       "0.195579     4\n",
       "0.432085     4\n",
       "0.089858     4\n",
       "0.088487     4\n",
       "0.105826     3\n",
       "0.969458     3\n",
       "0.135097     3\n",
       "0.128889     3\n",
       "0.066329     3\n",
       "0.053855     3\n",
       "0.200784     3\n",
       "0.138734     3\n",
       "0.677814     3\n",
       "0.148896     3\n",
       "0.963243     2\n",
       "0.124738     2\n",
       "0.517460     2\n",
       "0.120983     2\n",
       "0.907224     2\n",
       "0.634864     2\n",
       "            ..\n",
       "0.797818     1\n",
       "0.446668     1\n",
       "0.023173     1\n",
       "0.095554     1\n",
       "0.918297     1\n",
       "0.991538     1\n",
       "0.462564     1\n",
       "0.663400     1\n",
       "0.740547     1\n",
       "0.569171     1\n",
       "0.728825     1\n",
       "0.202958     1\n",
       "0.163041     1\n",
       "0.049091     1\n",
       "0.854796     1\n",
       "0.386382     1\n",
       "0.103920     1\n",
       "0.041431     1\n",
       "0.052332     1\n",
       "0.514946     1\n",
       "0.955375     1\n",
       "0.542359     1\n",
       "0.345848     1\n",
       "0.710729     1\n",
       "0.200952     1\n",
       "0.913361     1\n",
       "0.582793     1\n",
       "0.957304     1\n",
       "0.156440     1\n",
       "0.914551     1\n",
       "Name: Survived, Length: 269, dtype: int64"
      ]
     },
     "execution_count": 6,
     "metadata": {},
     "output_type": "execute_result"
    }
   ],
   "source": [
    "yt.Survived.value_counts()"
   ]
  },
  {
   "cell_type": "code",
   "execution_count": 7,
   "metadata": {},
   "outputs": [
    {
     "data": {
      "text/plain": [
       "<matplotlib.collections.PathCollection at 0x7f237511bb00>"
      ]
     },
     "execution_count": 7,
     "metadata": {},
     "output_type": "execute_result"
    },
    {
     "data": {
      "image/png": "[encoded data removed]",
      "text/plain": [
       "<Figure size 432x288 with 1 Axes>"
      ]
     },
     "metadata": {},
     "output_type": "display_data"
    }
   ],
   "source": [
    "pt = df2['PassengerId']\n",
    "\n",
    "#pt = pt.reset_index(drop=True)\n",
    "#pt = pd.DataFrame(np.array(pt).reshape(len(pt)), columns = ['PassengerId'])\n",
    "\n",
    "plt.scatter(yt2_predict,yt2_predict)\n"
   ]
  },
  {
   "cell_type": "code",
   "execution_count": 8,
   "metadata": {},
   "outputs": [
    {
     "data": {
      "image/png": "[encoded data removed]",
      "text/plain": [
       "<Figure size 432x288 with 1 Axes>"
      ]
     },
     "metadata": {},
     "output_type": "display_data"
    }
   ],
   "source": [
    "# Xplt = yt2_predict # false_positive_rate\n",
    "# yplt = Xt # true_positive_rate \n",
    "\n",
    "# # This is the ROC curve\n",
    "# plt.plot(Xplt,yplt)\n",
    "# plt.show() \n",
    "\n",
    "# # This is the AUC\n",
    "# auc = np.trapz(yplt,Xplt)\n",
    "\n",
    "actual = y_test #df1['Survived']\n",
    "predictions = y_predict #df2t\n",
    "\n",
    "#print(actual)\n",
    "#print(predictions)\n",
    "\n",
    "false_positive_rate, true_positive_rate, thresholds = roc_curve(actual, predictions)\n",
    "roc_auc = auc(false_positive_rate, true_positive_rate)\n",
    "\n",
    "plt.title('Receiver Operating Characteristic')\n",
    "plt.plot(false_positive_rate, true_positive_rate, 'b', label = 'AUC = %0.2f'% roc_auc)\n",
    "plt.legend(loc = 'lower right')\n",
    "plt.plot([0,1],[0,1],'r--')\n",
    "plt.xlim([-0.1,1.2])\n",
    "plt.ylim([-0.1,1.2])\n",
    "plt.ylabel('True Positive Rate')\n",
    "plt.xlabel('False Positive Rate')\n",
    "plt.show()"
   ]
  },
  {
   "cell_type": "code",
   "execution_count": null,
   "metadata": {},
   "outputs": [],
   "source": []
  },
  {
   "cell_type": "code",
   "execution_count": null,
   "metadata": {},
   "outputs": [],
   "source": []
  }
 ],
 "metadata": {
  "kernelspec": {
   "display_name": "Python 3",
   "language": "python",
   "name": "python3"
  },
  "language_info": {
   "codemirror_mode": {
    "name": "ipython",
    "version": 3
   },
   "file_extension": ".py",
   "mimetype": "text/x-python",
   "name": "python",
   "nbconvert_exporter": "python",
   "pygments_lexer": "ipython3",
   "version": "3.6.5"
  }
 },
 "nbformat": 4,
 "nbformat_minor": 2
}
